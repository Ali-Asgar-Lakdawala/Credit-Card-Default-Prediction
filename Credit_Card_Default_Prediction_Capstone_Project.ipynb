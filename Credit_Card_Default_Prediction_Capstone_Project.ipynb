{
  "nbformat": 4,
  "nbformat_minor": 0,
  "metadata": {
    "colab": {
      "name": "Credit Card Default Prediction - Capstone Project.ipynb",
      "provenance": [],
      "collapsed_sections": [
        "AlLxAtlziMbP",
        "Tv7j0FGRokAb",
        "-oew2dQYjCTr",
        "oAxup2KraT1o",
        "_M9RjLIH43F2",
        "qy_06v6825JP",
        "0udFSoX_Kjzf",
        "WqyxIM0DNXjT",
        "_kijouVP3hHK",
        "FKBMHBWPCxEj",
        "ySPDwBh7dFon"
      ],
      "include_colab_link": true
    },
    "kernelspec": {
      "display_name": "Python 3",
      "language": "python",
      "name": "python3"
    },
    "language_info": {
      "codemirror_mode": {
        "name": "ipython",
        "version": 3
      },
      "file_extension": ".py",
      "mimetype": "text/x-python",
      "name": "python",
      "nbconvert_exporter": "python",
      "pygments_lexer": "ipython3",
      "version": "3.6.6"
    }
  },
  "cells": [
    {
      "cell_type": "markdown",
      "metadata": {
        "id": "view-in-github",
        "colab_type": "text"
      },
      "source": [
        "<a href=\"https://colab.research.google.com/github/Ali-Asgar-Lakdawala/Credit-Card-Default-Prediction/blob/main/Credit_Card_Default_Prediction_Capstone_Project.ipynb\" target=\"_parent\"><img src=\"https://colab.research.google.com/assets/colab-badge.svg\" alt=\"Open In Colab\"/></a>"
      ]
    },
    {
      "cell_type": "markdown",
      "metadata": {
        "id": "tOGC-qoyhJeX"
      },
      "source": [
        "# <b><u> Project Title : Predicting whether a customer will default on his/her credit card </u></b>"
      ]
    },
    {
      "cell_type": "markdown",
      "metadata": {
        "id": "Y06xIdG26kRF"
      },
      "source": [
        "## <b> Problem Description </b>\n",
        "\n",
        "### This project is aimed at predicting the case of customers default payments in Taiwan. From the perspective of risk management, the result of predictive accuracy of the estimated probability of default will be more valuable than the binary result of classification - credible or not credible clients. We can use the [K-S chart](https://www.listendata.com/2019/07/KS-Statistics-Python.html) to evaluate which customers will default on their credit card payments\n"
      ]
    },
    {
      "cell_type": "markdown",
      "metadata": {
        "id": "AlLxAtlziMbP"
      },
      "source": [
        "## <b> Data Description </b>\n",
        "\n",
        "### <b>Attribute Information: </b>\n",
        "\n",
        "### This research employed a binary variable, default payment (Yes = 1, No = 0), as the response variable. This study reviewed the literature and used the following 23 variables as explanatory variables:\n",
        "* ### X1: Amount of the given credit (NT dollar): it includes both the individual consumer credit and his/her family (supplementary) credit.\n",
        "* ### X2: Gender (1 = male; 2 = female).\n",
        "* ### X3: Education (1 = graduate school; 2 = university; 3 = high school; 4 = others).\n",
        "* ### X4: Marital status (1 = married; 2 = single; 3 = others).\n",
        "* ### X5: Age (year).\n",
        "* ### X6 - X11: History of past payment. We tracked the past monthly payment records (from April to September, 2005) as follows:\n",
        "* X6 = the repayment status in September, 2005; \n",
        "* X7 = the repayment status in August, 2005; . . .;\n",
        "* X11 = the repayment status in April, 2005.\n",
        "\n",
        " The measurement scale for the repayment status is: -1 = pay duly; 1 = payment delay for one month; 2 = payment delay for two months; . . .; 8 = payment delay for eight months; 9 = payment delay for nine months and above.\n",
        "* ### X12-X17: Amount of bill statement (NT dollar). X12 = amount of bill statement in September, 2005; X13 = amount of bill statement in August, 2005; . . .; X17 = amount of bill statement in April, 2005.\n",
        "* ### X18-X23: Amount of previous payment (NT dollar). X18 = amount paid in September, 2005; X19 = amount paid in August, 2005; . . .;X23 = amount paid in April, 2005."
      ]
    },
    {
      "cell_type": "code",
      "metadata": {
        "id": "dByMsuzT8Tnw"
      },
      "source": [
        "import pandas as pd\n",
        "import numpy as np\n",
        "import matplotlib.pyplot as plt\n",
        "import seaborn as sns\n",
        "import math\n",
        "import time\n",
        "from sklearn.metrics import accuracy_score, confusion_matrix, classification_report, roc_auc_score, plot_precision_recall_curve\n",
        "from sklearn.metrics import precision_score,recall_score,f1_score\n",
        "from sklearn.linear_model import LogisticRegression\n",
        "from sklearn.model_selection import train_test_split\n",
        "from sklearn.model_selection import GridSearchCV\n",
        "from sklearn.preprocessing import MinMaxScaler\n",
        "import warnings\n",
        "warnings.filterwarnings(\"ignore\")"
      ],
      "execution_count": 1,
      "outputs": []
    },
    {
      "cell_type": "code",
      "metadata": {
        "id": "a3S8jgVohMLH"
      },
      "source": [
        "df=pd.read_excel('https://github.com/Ali-Asgar-Lakdawala/Credit-Card-Default-Prediction/blob/main/default%20of%20credit%20card%20clients.xls?raw=true',header = 1)"
      ],
      "execution_count": 2,
      "outputs": []
    },
    {
      "cell_type": "code",
      "metadata": {
        "colab": {
          "base_uri": "https://localhost:8080/",
          "height": 0
        },
        "id": "_mF40Nv2hUca",
        "outputId": "9aa5014b-9976-405d-cc59-08732ecb3181"
      },
      "source": [
        "df.head()"
      ],
      "execution_count": 3,
      "outputs": [
        {
          "output_type": "execute_result",
          "data": {
            "text/html": [
              "<div>\n",
              "<style scoped>\n",
              "    .dataframe tbody tr th:only-of-type {\n",
              "        vertical-align: middle;\n",
              "    }\n",
              "\n",
              "    .dataframe tbody tr th {\n",
              "        vertical-align: top;\n",
              "    }\n",
              "\n",
              "    .dataframe thead th {\n",
              "        text-align: right;\n",
              "    }\n",
              "</style>\n",
              "<table border=\"1\" class=\"dataframe\">\n",
              "  <thead>\n",
              "    <tr style=\"text-align: right;\">\n",
              "      <th></th>\n",
              "      <th>ID</th>\n",
              "      <th>LIMIT_BAL</th>\n",
              "      <th>SEX</th>\n",
              "      <th>EDUCATION</th>\n",
              "      <th>MARRIAGE</th>\n",
              "      <th>AGE</th>\n",
              "      <th>PAY_0</th>\n",
              "      <th>PAY_2</th>\n",
              "      <th>PAY_3</th>\n",
              "      <th>PAY_4</th>\n",
              "      <th>PAY_5</th>\n",
              "      <th>PAY_6</th>\n",
              "      <th>BILL_AMT1</th>\n",
              "      <th>BILL_AMT2</th>\n",
              "      <th>BILL_AMT3</th>\n",
              "      <th>BILL_AMT4</th>\n",
              "      <th>BILL_AMT5</th>\n",
              "      <th>BILL_AMT6</th>\n",
              "      <th>PAY_AMT1</th>\n",
              "      <th>PAY_AMT2</th>\n",
              "      <th>PAY_AMT3</th>\n",
              "      <th>PAY_AMT4</th>\n",
              "      <th>PAY_AMT5</th>\n",
              "      <th>PAY_AMT6</th>\n",
              "      <th>default payment next month</th>\n",
              "    </tr>\n",
              "  </thead>\n",
              "  <tbody>\n",
              "    <tr>\n",
              "      <th>0</th>\n",
              "      <td>1</td>\n",
              "      <td>20000</td>\n",
              "      <td>2</td>\n",
              "      <td>2</td>\n",
              "      <td>1</td>\n",
              "      <td>24</td>\n",
              "      <td>2</td>\n",
              "      <td>2</td>\n",
              "      <td>-1</td>\n",
              "      <td>-1</td>\n",
              "      <td>-2</td>\n",
              "      <td>-2</td>\n",
              "      <td>3913</td>\n",
              "      <td>3102</td>\n",
              "      <td>689</td>\n",
              "      <td>0</td>\n",
              "      <td>0</td>\n",
              "      <td>0</td>\n",
              "      <td>0</td>\n",
              "      <td>689</td>\n",
              "      <td>0</td>\n",
              "      <td>0</td>\n",
              "      <td>0</td>\n",
              "      <td>0</td>\n",
              "      <td>1</td>\n",
              "    </tr>\n",
              "    <tr>\n",
              "      <th>1</th>\n",
              "      <td>2</td>\n",
              "      <td>120000</td>\n",
              "      <td>2</td>\n",
              "      <td>2</td>\n",
              "      <td>2</td>\n",
              "      <td>26</td>\n",
              "      <td>-1</td>\n",
              "      <td>2</td>\n",
              "      <td>0</td>\n",
              "      <td>0</td>\n",
              "      <td>0</td>\n",
              "      <td>2</td>\n",
              "      <td>2682</td>\n",
              "      <td>1725</td>\n",
              "      <td>2682</td>\n",
              "      <td>3272</td>\n",
              "      <td>3455</td>\n",
              "      <td>3261</td>\n",
              "      <td>0</td>\n",
              "      <td>1000</td>\n",
              "      <td>1000</td>\n",
              "      <td>1000</td>\n",
              "      <td>0</td>\n",
              "      <td>2000</td>\n",
              "      <td>1</td>\n",
              "    </tr>\n",
              "    <tr>\n",
              "      <th>2</th>\n",
              "      <td>3</td>\n",
              "      <td>90000</td>\n",
              "      <td>2</td>\n",
              "      <td>2</td>\n",
              "      <td>2</td>\n",
              "      <td>34</td>\n",
              "      <td>0</td>\n",
              "      <td>0</td>\n",
              "      <td>0</td>\n",
              "      <td>0</td>\n",
              "      <td>0</td>\n",
              "      <td>0</td>\n",
              "      <td>29239</td>\n",
              "      <td>14027</td>\n",
              "      <td>13559</td>\n",
              "      <td>14331</td>\n",
              "      <td>14948</td>\n",
              "      <td>15549</td>\n",
              "      <td>1518</td>\n",
              "      <td>1500</td>\n",
              "      <td>1000</td>\n",
              "      <td>1000</td>\n",
              "      <td>1000</td>\n",
              "      <td>5000</td>\n",
              "      <td>0</td>\n",
              "    </tr>\n",
              "    <tr>\n",
              "      <th>3</th>\n",
              "      <td>4</td>\n",
              "      <td>50000</td>\n",
              "      <td>2</td>\n",
              "      <td>2</td>\n",
              "      <td>1</td>\n",
              "      <td>37</td>\n",
              "      <td>0</td>\n",
              "      <td>0</td>\n",
              "      <td>0</td>\n",
              "      <td>0</td>\n",
              "      <td>0</td>\n",
              "      <td>0</td>\n",
              "      <td>46990</td>\n",
              "      <td>48233</td>\n",
              "      <td>49291</td>\n",
              "      <td>28314</td>\n",
              "      <td>28959</td>\n",
              "      <td>29547</td>\n",
              "      <td>2000</td>\n",
              "      <td>2019</td>\n",
              "      <td>1200</td>\n",
              "      <td>1100</td>\n",
              "      <td>1069</td>\n",
              "      <td>1000</td>\n",
              "      <td>0</td>\n",
              "    </tr>\n",
              "    <tr>\n",
              "      <th>4</th>\n",
              "      <td>5</td>\n",
              "      <td>50000</td>\n",
              "      <td>1</td>\n",
              "      <td>2</td>\n",
              "      <td>1</td>\n",
              "      <td>57</td>\n",
              "      <td>-1</td>\n",
              "      <td>0</td>\n",
              "      <td>-1</td>\n",
              "      <td>0</td>\n",
              "      <td>0</td>\n",
              "      <td>0</td>\n",
              "      <td>8617</td>\n",
              "      <td>5670</td>\n",
              "      <td>35835</td>\n",
              "      <td>20940</td>\n",
              "      <td>19146</td>\n",
              "      <td>19131</td>\n",
              "      <td>2000</td>\n",
              "      <td>36681</td>\n",
              "      <td>10000</td>\n",
              "      <td>9000</td>\n",
              "      <td>689</td>\n",
              "      <td>679</td>\n",
              "      <td>0</td>\n",
              "    </tr>\n",
              "  </tbody>\n",
              "</table>\n",
              "</div>"
            ],
            "text/plain": [
              "   ID  LIMIT_BAL  SEX  ...  PAY_AMT5  PAY_AMT6  default payment next month\n",
              "0   1      20000    2  ...         0         0                           1\n",
              "1   2     120000    2  ...         0      2000                           1\n",
              "2   3      90000    2  ...      1000      5000                           0\n",
              "3   4      50000    2  ...      1069      1000                           0\n",
              "4   5      50000    1  ...       689       679                           0\n",
              "\n",
              "[5 rows x 25 columns]"
            ]
          },
          "metadata": {},
          "execution_count": 3
        }
      ]
    },
    {
      "cell_type": "markdown",
      "metadata": {
        "id": "retnBXdl0K3O"
      },
      "source": [
        "---\n",
        "# Functions\n",
        "---"
      ]
    },
    {
      "cell_type": "code",
      "metadata": {
        "id": "OUxpwfKJ5F7l"
      },
      "source": [
        "model_accuracy=[]\n",
        "model_precision=[]\n",
        "model_recall=[]\n",
        "model_f1_score=[]\n",
        "model_roc_auc_score=[]\n"
      ],
      "execution_count": 4,
      "outputs": []
    },
    {
      "cell_type": "code",
      "metadata": {
        "id": "-P9ACd8bz6m5"
      },
      "source": [
        "# making a function to train the model and evaluate the model\n",
        "def train_and_score (model,X_test,X_train,y_test,y_train, best_parameter=True, best_score=True):\n",
        "  '''\n",
        "  train the model and gives mse,rmse,r2,adj r2 score of the model\n",
        "  can be used for any model where y is not transformed \n",
        "  '''\n",
        "\n",
        "  start=time.time()\n",
        "  #training the model\n",
        "  model.fit(X_train,y_train)\n",
        "  stop = time.time()\n",
        "\n",
        "  time_min=round((stop - start)/60,4)\n",
        "  print(f\"Training time: {time_min}min\",'\\n')\n",
        "  \n",
        "\n",
        "  # finding the best parameters of the model if any \n",
        "  if best_parameter==True:\n",
        "    try:\n",
        "      # finding the best parameters of the model if any \n",
        "      print(\"The best parameters found out to be :\" ,model.best_params_,'\\n')\n",
        "    except:\n",
        "      pass\n",
        "\n",
        "  if best_score==True:\n",
        "    try:\n",
        "      print(\" \\nwhere negative mean squared error is: \", model.best_score_,'\\n')\n",
        "    except:\n",
        "      pass\n",
        "\n",
        "\n",
        "  #predicting the values of y from x via model\n",
        "  y_pred_test = model.predict(X_test)\n",
        "  y_pred_train = model.predict(X_train)\n",
        "\n",
        "  def score (predicted,actual,append=True):\n",
        "    accuracy = accuracy_score(predicted,actual)\n",
        "    precision = precision_score(predicted,actual)\n",
        "    recall = recall_score(predicted,actual)\n",
        "    f1 = f1_score(predicted,actual)\n",
        "    roc= roc_auc_score(predicted,actual)\n",
        "    print(\"The accuracy is \", accuracy)\n",
        "    print(\"The precision is \", precision)\n",
        "    print(\"The recall is \", recall)\n",
        "    print(\"The f1 is \", f1)\n",
        "    print('the auc  is ',roc)\n",
        "\n",
        "    if append==True:\n",
        "      model_accuracy.append(accuracy)\n",
        "      model_precision.append(precision)\n",
        "      model_recall.append(recall)\n",
        "      model_f1_score.append(f1)\n",
        "      model_roc_auc_score.append(roc)\n",
        "    else:\n",
        "      pass\n",
        "\n",
        "  print('score matrix for train')\n",
        "  print('*'*80)\n",
        "  score(y_pred_train,y_train,False)\n",
        "  print('\\n')\n",
        "  print('score matrix for test')\n",
        "  print('*'*80)\n",
        "  score(y_pred_test,y_test)\n",
        "  \n",
        "\n",
        "\n",
        "\n",
        "  # test_accuracy = accuracy_score(y_pred_test,y_test)\n",
        "  # test_precision = precision_score(y_pred_test,y_test)\n",
        "  # test_recall = recall_score(y_pred_test,y_test)\n",
        "  # test_f1 = f1_score(y_pred_test,y_test)\n",
        "  # test_roc= roc_auc_score(y_pred_test,y_test)\n",
        "  # print(\"The accuracy on test data is \", test_accuracy)\n",
        "  # print(\"The precision on test data is \", test_precision)\n",
        "  # print(\"The recall on test data is \", test_recall)\n",
        "  # print(\"The f1 on test data is \", test_f1)\n",
        "\n",
        "  # accuracy.append(test_accuracy)\n",
        "  # precision.append(test_precision)\n",
        "  # recall.append(test_recall)\n",
        "  # f1_score.append(test_f1)\n"
      ],
      "execution_count": 5,
      "outputs": []
    },
    {
      "cell_type": "code",
      "metadata": {
        "id": "Xt6iVP74rH6d"
      },
      "source": [
        "def age_group(x):\n",
        "  if x in range(1,30):\n",
        "    return '21_29'\n",
        "  elif x in range(30,40):\n",
        "    return '30_39'\n",
        "  elif x in range(40,50):\n",
        "    return '40_49'\n",
        "  elif x in range(50,60):\n",
        "    return '50_59'\n",
        "  else:\n",
        "    return '60_&_above'"
      ],
      "execution_count": 6,
      "outputs": []
    },
    {
      "cell_type": "code",
      "metadata": {
        "id": "eyOBodH_MHXB"
      },
      "source": [
        "def feature_importances_graph (model,dependent_variable):\n",
        "  '''\n",
        "  shows the graph of feature importance\n",
        "  '''\n",
        "  features = df.drop(dependent_variable,axis=1).columns\n",
        "  importances = model.feature_importances_\n",
        "  indices = np.argsort(importances)\n",
        "\n",
        "  plt.figure(figsize=(10,40))\n",
        "  plt.title('Feature Importance')\n",
        "  plt.barh(range(len(indices)), importances[indices], color='red', align='center')\n",
        "  plt.yticks(range(len(indices)), [features[i] for i in indices])\n",
        "  plt.xlabel('Relative Importance')\n",
        "  \n",
        "\n",
        "  plt.show()\n"
      ],
      "execution_count": 7,
      "outputs": []
    },
    {
      "cell_type": "code",
      "metadata": {
        "colab": {
          "base_uri": "https://localhost:8080/"
        },
        "id": "lYYtDhWevdgQ",
        "outputId": "de63ebaa-e046-42ff-c33d-634a673448d6"
      },
      "source": [
        "pip install lime"
      ],
      "execution_count": 8,
      "outputs": [
        {
          "output_type": "stream",
          "name": "stdout",
          "text": [
            "Requirement already satisfied: lime in /usr/local/lib/python3.7/dist-packages (0.2.0.1)\n",
            "Requirement already satisfied: numpy in /usr/local/lib/python3.7/dist-packages (from lime) (1.19.5)\n",
            "Requirement already satisfied: tqdm in /usr/local/lib/python3.7/dist-packages (from lime) (4.62.3)\n",
            "Requirement already satisfied: scikit-learn>=0.18 in /usr/local/lib/python3.7/dist-packages (from lime) (0.22.2.post1)\n",
            "Requirement already satisfied: scikit-image>=0.12 in /usr/local/lib/python3.7/dist-packages (from lime) (0.16.2)\n",
            "Requirement already satisfied: scipy in /usr/local/lib/python3.7/dist-packages (from lime) (1.4.1)\n",
            "Requirement already satisfied: matplotlib in /usr/local/lib/python3.7/dist-packages (from lime) (3.2.2)\n",
            "Requirement already satisfied: pillow>=4.3.0 in /usr/local/lib/python3.7/dist-packages (from scikit-image>=0.12->lime) (7.1.2)\n",
            "Requirement already satisfied: PyWavelets>=0.4.0 in /usr/local/lib/python3.7/dist-packages (from scikit-image>=0.12->lime) (1.1.1)\n",
            "Requirement already satisfied: networkx>=2.0 in /usr/local/lib/python3.7/dist-packages (from scikit-image>=0.12->lime) (2.6.3)\n",
            "Requirement already satisfied: imageio>=2.3.0 in /usr/local/lib/python3.7/dist-packages (from scikit-image>=0.12->lime) (2.4.1)\n",
            "Requirement already satisfied: pyparsing!=2.0.4,!=2.1.2,!=2.1.6,>=2.0.1 in /usr/local/lib/python3.7/dist-packages (from matplotlib->lime) (2.4.7)\n",
            "Requirement already satisfied: kiwisolver>=1.0.1 in /usr/local/lib/python3.7/dist-packages (from matplotlib->lime) (1.3.2)\n",
            "Requirement already satisfied: cycler>=0.10 in /usr/local/lib/python3.7/dist-packages (from matplotlib->lime) (0.10.0)\n",
            "Requirement already satisfied: python-dateutil>=2.1 in /usr/local/lib/python3.7/dist-packages (from matplotlib->lime) (2.8.2)\n",
            "Requirement already satisfied: six in /usr/local/lib/python3.7/dist-packages (from cycler>=0.10->matplotlib->lime) (1.15.0)\n",
            "Requirement already satisfied: joblib>=0.11 in /usr/local/lib/python3.7/dist-packages (from scikit-learn>=0.18->lime) (1.0.1)\n"
          ]
        }
      ]
    },
    {
      "cell_type": "code",
      "metadata": {
        "id": "pQvao6IeQP_0"
      },
      "source": [
        "# LIME SECTION\n",
        "\n",
        "import lime\n",
        "import lime.lime_tabular\n",
        "def LimeTabularExplainer_table(model,instance,num_features,dependent_var):\n",
        "  \n",
        "  X=final_df.drop('trip_duration',axis=1)\n",
        "  feature_names =list(final_df.drop('trip_duration',axis=1).columns)\n",
        "\n",
        "  explainer = lime.lime_tabular.LimeTabularExplainer(X.values,feature_names=feature_names,mode='regression')\n",
        "\n",
        "  # selecting the instace to explain\n",
        "  choosen_instance = X.reset_index(drop=True).loc[[instance]].values[0]\n",
        "  exp = explainer.explain_instance(choosen_instance, model.predict, num_features=num_features)\n",
        "  exp.show_in_notebook(show_table=True)\n"
      ],
      "execution_count": 9,
      "outputs": []
    },
    {
      "cell_type": "markdown",
      "metadata": {
        "id": "ojKs7klKoCyL"
      },
      "source": [
        "---\n",
        "# Dataset inspection\n",
        "---"
      ]
    },
    {
      "cell_type": "code",
      "metadata": {
        "colab": {
          "base_uri": "https://localhost:8080/",
          "height": 221
        },
        "id": "toQEMLQsocGX",
        "outputId": "99423667-545a-4888-97e1-83eb2f461c70"
      },
      "source": [
        "# to get the first five rows of the data set \n",
        "df.head()"
      ],
      "execution_count": 10,
      "outputs": [
        {
          "output_type": "execute_result",
          "data": {
            "text/html": [
              "<div>\n",
              "<style scoped>\n",
              "    .dataframe tbody tr th:only-of-type {\n",
              "        vertical-align: middle;\n",
              "    }\n",
              "\n",
              "    .dataframe tbody tr th {\n",
              "        vertical-align: top;\n",
              "    }\n",
              "\n",
              "    .dataframe thead th {\n",
              "        text-align: right;\n",
              "    }\n",
              "</style>\n",
              "<table border=\"1\" class=\"dataframe\">\n",
              "  <thead>\n",
              "    <tr style=\"text-align: right;\">\n",
              "      <th></th>\n",
              "      <th>ID</th>\n",
              "      <th>LIMIT_BAL</th>\n",
              "      <th>SEX</th>\n",
              "      <th>EDUCATION</th>\n",
              "      <th>MARRIAGE</th>\n",
              "      <th>AGE</th>\n",
              "      <th>PAY_0</th>\n",
              "      <th>PAY_2</th>\n",
              "      <th>PAY_3</th>\n",
              "      <th>PAY_4</th>\n",
              "      <th>PAY_5</th>\n",
              "      <th>PAY_6</th>\n",
              "      <th>BILL_AMT1</th>\n",
              "      <th>BILL_AMT2</th>\n",
              "      <th>BILL_AMT3</th>\n",
              "      <th>BILL_AMT4</th>\n",
              "      <th>BILL_AMT5</th>\n",
              "      <th>BILL_AMT6</th>\n",
              "      <th>PAY_AMT1</th>\n",
              "      <th>PAY_AMT2</th>\n",
              "      <th>PAY_AMT3</th>\n",
              "      <th>PAY_AMT4</th>\n",
              "      <th>PAY_AMT5</th>\n",
              "      <th>PAY_AMT6</th>\n",
              "      <th>default payment next month</th>\n",
              "    </tr>\n",
              "  </thead>\n",
              "  <tbody>\n",
              "    <tr>\n",
              "      <th>0</th>\n",
              "      <td>1</td>\n",
              "      <td>20000</td>\n",
              "      <td>2</td>\n",
              "      <td>2</td>\n",
              "      <td>1</td>\n",
              "      <td>24</td>\n",
              "      <td>2</td>\n",
              "      <td>2</td>\n",
              "      <td>-1</td>\n",
              "      <td>-1</td>\n",
              "      <td>-2</td>\n",
              "      <td>-2</td>\n",
              "      <td>3913</td>\n",
              "      <td>3102</td>\n",
              "      <td>689</td>\n",
              "      <td>0</td>\n",
              "      <td>0</td>\n",
              "      <td>0</td>\n",
              "      <td>0</td>\n",
              "      <td>689</td>\n",
              "      <td>0</td>\n",
              "      <td>0</td>\n",
              "      <td>0</td>\n",
              "      <td>0</td>\n",
              "      <td>1</td>\n",
              "    </tr>\n",
              "    <tr>\n",
              "      <th>1</th>\n",
              "      <td>2</td>\n",
              "      <td>120000</td>\n",
              "      <td>2</td>\n",
              "      <td>2</td>\n",
              "      <td>2</td>\n",
              "      <td>26</td>\n",
              "      <td>-1</td>\n",
              "      <td>2</td>\n",
              "      <td>0</td>\n",
              "      <td>0</td>\n",
              "      <td>0</td>\n",
              "      <td>2</td>\n",
              "      <td>2682</td>\n",
              "      <td>1725</td>\n",
              "      <td>2682</td>\n",
              "      <td>3272</td>\n",
              "      <td>3455</td>\n",
              "      <td>3261</td>\n",
              "      <td>0</td>\n",
              "      <td>1000</td>\n",
              "      <td>1000</td>\n",
              "      <td>1000</td>\n",
              "      <td>0</td>\n",
              "      <td>2000</td>\n",
              "      <td>1</td>\n",
              "    </tr>\n",
              "    <tr>\n",
              "      <th>2</th>\n",
              "      <td>3</td>\n",
              "      <td>90000</td>\n",
              "      <td>2</td>\n",
              "      <td>2</td>\n",
              "      <td>2</td>\n",
              "      <td>34</td>\n",
              "      <td>0</td>\n",
              "      <td>0</td>\n",
              "      <td>0</td>\n",
              "      <td>0</td>\n",
              "      <td>0</td>\n",
              "      <td>0</td>\n",
              "      <td>29239</td>\n",
              "      <td>14027</td>\n",
              "      <td>13559</td>\n",
              "      <td>14331</td>\n",
              "      <td>14948</td>\n",
              "      <td>15549</td>\n",
              "      <td>1518</td>\n",
              "      <td>1500</td>\n",
              "      <td>1000</td>\n",
              "      <td>1000</td>\n",
              "      <td>1000</td>\n",
              "      <td>5000</td>\n",
              "      <td>0</td>\n",
              "    </tr>\n",
              "    <tr>\n",
              "      <th>3</th>\n",
              "      <td>4</td>\n",
              "      <td>50000</td>\n",
              "      <td>2</td>\n",
              "      <td>2</td>\n",
              "      <td>1</td>\n",
              "      <td>37</td>\n",
              "      <td>0</td>\n",
              "      <td>0</td>\n",
              "      <td>0</td>\n",
              "      <td>0</td>\n",
              "      <td>0</td>\n",
              "      <td>0</td>\n",
              "      <td>46990</td>\n",
              "      <td>48233</td>\n",
              "      <td>49291</td>\n",
              "      <td>28314</td>\n",
              "      <td>28959</td>\n",
              "      <td>29547</td>\n",
              "      <td>2000</td>\n",
              "      <td>2019</td>\n",
              "      <td>1200</td>\n",
              "      <td>1100</td>\n",
              "      <td>1069</td>\n",
              "      <td>1000</td>\n",
              "      <td>0</td>\n",
              "    </tr>\n",
              "    <tr>\n",
              "      <th>4</th>\n",
              "      <td>5</td>\n",
              "      <td>50000</td>\n",
              "      <td>1</td>\n",
              "      <td>2</td>\n",
              "      <td>1</td>\n",
              "      <td>57</td>\n",
              "      <td>-1</td>\n",
              "      <td>0</td>\n",
              "      <td>-1</td>\n",
              "      <td>0</td>\n",
              "      <td>0</td>\n",
              "      <td>0</td>\n",
              "      <td>8617</td>\n",
              "      <td>5670</td>\n",
              "      <td>35835</td>\n",
              "      <td>20940</td>\n",
              "      <td>19146</td>\n",
              "      <td>19131</td>\n",
              "      <td>2000</td>\n",
              "      <td>36681</td>\n",
              "      <td>10000</td>\n",
              "      <td>9000</td>\n",
              "      <td>689</td>\n",
              "      <td>679</td>\n",
              "      <td>0</td>\n",
              "    </tr>\n",
              "  </tbody>\n",
              "</table>\n",
              "</div>"
            ],
            "text/plain": [
              "   ID  LIMIT_BAL  SEX  ...  PAY_AMT5  PAY_AMT6  default payment next month\n",
              "0   1      20000    2  ...         0         0                           1\n",
              "1   2     120000    2  ...         0      2000                           1\n",
              "2   3      90000    2  ...      1000      5000                           0\n",
              "3   4      50000    2  ...      1069      1000                           0\n",
              "4   5      50000    1  ...       689       679                           0\n",
              "\n",
              "[5 rows x 25 columns]"
            ]
          },
          "metadata": {},
          "execution_count": 10
        }
      ]
    },
    {
      "cell_type": "code",
      "metadata": {
        "colab": {
          "base_uri": "https://localhost:8080/"
        },
        "id": "od-lt9aRoG30",
        "outputId": "4e0cb2e1-f63c-4471-f959-7642eb003059"
      },
      "source": [
        "# to get the information about the data\n",
        "df.info()"
      ],
      "execution_count": 11,
      "outputs": [
        {
          "output_type": "stream",
          "name": "stdout",
          "text": [
            "<class 'pandas.core.frame.DataFrame'>\n",
            "RangeIndex: 30000 entries, 0 to 29999\n",
            "Data columns (total 25 columns):\n",
            " #   Column                      Non-Null Count  Dtype\n",
            "---  ------                      --------------  -----\n",
            " 0   ID                          30000 non-null  int64\n",
            " 1   LIMIT_BAL                   30000 non-null  int64\n",
            " 2   SEX                         30000 non-null  int64\n",
            " 3   EDUCATION                   30000 non-null  int64\n",
            " 4   MARRIAGE                    30000 non-null  int64\n",
            " 5   AGE                         30000 non-null  int64\n",
            " 6   PAY_0                       30000 non-null  int64\n",
            " 7   PAY_2                       30000 non-null  int64\n",
            " 8   PAY_3                       30000 non-null  int64\n",
            " 9   PAY_4                       30000 non-null  int64\n",
            " 10  PAY_5                       30000 non-null  int64\n",
            " 11  PAY_6                       30000 non-null  int64\n",
            " 12  BILL_AMT1                   30000 non-null  int64\n",
            " 13  BILL_AMT2                   30000 non-null  int64\n",
            " 14  BILL_AMT3                   30000 non-null  int64\n",
            " 15  BILL_AMT4                   30000 non-null  int64\n",
            " 16  BILL_AMT5                   30000 non-null  int64\n",
            " 17  BILL_AMT6                   30000 non-null  int64\n",
            " 18  PAY_AMT1                    30000 non-null  int64\n",
            " 19  PAY_AMT2                    30000 non-null  int64\n",
            " 20  PAY_AMT3                    30000 non-null  int64\n",
            " 21  PAY_AMT4                    30000 non-null  int64\n",
            " 22  PAY_AMT5                    30000 non-null  int64\n",
            " 23  PAY_AMT6                    30000 non-null  int64\n",
            " 24  default payment next month  30000 non-null  int64\n",
            "dtypes: int64(25)\n",
            "memory usage: 5.7 MB\n"
          ]
        }
      ]
    },
    {
      "cell_type": "code",
      "metadata": {
        "colab": {
          "base_uri": "https://localhost:8080/"
        },
        "id": "rSrUxDnYoQn5",
        "outputId": "02d47d4f-9003-4866-9cf8-25b62a80b37d"
      },
      "source": [
        "# finding the count of null values\n",
        "df.isnull().sum()"
      ],
      "execution_count": 12,
      "outputs": [
        {
          "output_type": "execute_result",
          "data": {
            "text/plain": [
              "ID                            0\n",
              "LIMIT_BAL                     0\n",
              "SEX                           0\n",
              "EDUCATION                     0\n",
              "MARRIAGE                      0\n",
              "AGE                           0\n",
              "PAY_0                         0\n",
              "PAY_2                         0\n",
              "PAY_3                         0\n",
              "PAY_4                         0\n",
              "PAY_5                         0\n",
              "PAY_6                         0\n",
              "BILL_AMT1                     0\n",
              "BILL_AMT2                     0\n",
              "BILL_AMT3                     0\n",
              "BILL_AMT4                     0\n",
              "BILL_AMT5                     0\n",
              "BILL_AMT6                     0\n",
              "PAY_AMT1                      0\n",
              "PAY_AMT2                      0\n",
              "PAY_AMT3                      0\n",
              "PAY_AMT4                      0\n",
              "PAY_AMT5                      0\n",
              "PAY_AMT6                      0\n",
              "default payment next month    0\n",
              "dtype: int64"
            ]
          },
          "metadata": {},
          "execution_count": 12
        }
      ]
    },
    {
      "cell_type": "code",
      "metadata": {
        "colab": {
          "base_uri": "https://localhost:8080/",
          "height": 351
        },
        "id": "uBO4JP2fZHie",
        "outputId": "cd3e8947-848d-4348-9881-f7e033a10cff"
      },
      "source": [
        "# to get the description of the data\n",
        "df.describe()"
      ],
      "execution_count": 13,
      "outputs": [
        {
          "output_type": "execute_result",
          "data": {
            "text/html": [
              "<div>\n",
              "<style scoped>\n",
              "    .dataframe tbody tr th:only-of-type {\n",
              "        vertical-align: middle;\n",
              "    }\n",
              "\n",
              "    .dataframe tbody tr th {\n",
              "        vertical-align: top;\n",
              "    }\n",
              "\n",
              "    .dataframe thead th {\n",
              "        text-align: right;\n",
              "    }\n",
              "</style>\n",
              "<table border=\"1\" class=\"dataframe\">\n",
              "  <thead>\n",
              "    <tr style=\"text-align: right;\">\n",
              "      <th></th>\n",
              "      <th>ID</th>\n",
              "      <th>LIMIT_BAL</th>\n",
              "      <th>SEX</th>\n",
              "      <th>EDUCATION</th>\n",
              "      <th>MARRIAGE</th>\n",
              "      <th>AGE</th>\n",
              "      <th>PAY_0</th>\n",
              "      <th>PAY_2</th>\n",
              "      <th>PAY_3</th>\n",
              "      <th>PAY_4</th>\n",
              "      <th>PAY_5</th>\n",
              "      <th>PAY_6</th>\n",
              "      <th>BILL_AMT1</th>\n",
              "      <th>BILL_AMT2</th>\n",
              "      <th>BILL_AMT3</th>\n",
              "      <th>BILL_AMT4</th>\n",
              "      <th>BILL_AMT5</th>\n",
              "      <th>BILL_AMT6</th>\n",
              "      <th>PAY_AMT1</th>\n",
              "      <th>PAY_AMT2</th>\n",
              "      <th>PAY_AMT3</th>\n",
              "      <th>PAY_AMT4</th>\n",
              "      <th>PAY_AMT5</th>\n",
              "      <th>PAY_AMT6</th>\n",
              "      <th>default payment next month</th>\n",
              "    </tr>\n",
              "  </thead>\n",
              "  <tbody>\n",
              "    <tr>\n",
              "      <th>count</th>\n",
              "      <td>30000.000000</td>\n",
              "      <td>30000.000000</td>\n",
              "      <td>30000.000000</td>\n",
              "      <td>30000.000000</td>\n",
              "      <td>30000.000000</td>\n",
              "      <td>30000.000000</td>\n",
              "      <td>30000.000000</td>\n",
              "      <td>30000.000000</td>\n",
              "      <td>30000.000000</td>\n",
              "      <td>30000.000000</td>\n",
              "      <td>30000.000000</td>\n",
              "      <td>30000.000000</td>\n",
              "      <td>30000.000000</td>\n",
              "      <td>30000.000000</td>\n",
              "      <td>3.000000e+04</td>\n",
              "      <td>30000.000000</td>\n",
              "      <td>30000.000000</td>\n",
              "      <td>30000.000000</td>\n",
              "      <td>30000.000000</td>\n",
              "      <td>3.000000e+04</td>\n",
              "      <td>30000.00000</td>\n",
              "      <td>30000.000000</td>\n",
              "      <td>30000.000000</td>\n",
              "      <td>30000.000000</td>\n",
              "      <td>30000.000000</td>\n",
              "    </tr>\n",
              "    <tr>\n",
              "      <th>mean</th>\n",
              "      <td>15000.500000</td>\n",
              "      <td>167484.322667</td>\n",
              "      <td>1.603733</td>\n",
              "      <td>1.853133</td>\n",
              "      <td>1.551867</td>\n",
              "      <td>35.485500</td>\n",
              "      <td>-0.016700</td>\n",
              "      <td>-0.133767</td>\n",
              "      <td>-0.166200</td>\n",
              "      <td>-0.220667</td>\n",
              "      <td>-0.266200</td>\n",
              "      <td>-0.291100</td>\n",
              "      <td>51223.330900</td>\n",
              "      <td>49179.075167</td>\n",
              "      <td>4.701315e+04</td>\n",
              "      <td>43262.948967</td>\n",
              "      <td>40311.400967</td>\n",
              "      <td>38871.760400</td>\n",
              "      <td>5663.580500</td>\n",
              "      <td>5.921163e+03</td>\n",
              "      <td>5225.68150</td>\n",
              "      <td>4826.076867</td>\n",
              "      <td>4799.387633</td>\n",
              "      <td>5215.502567</td>\n",
              "      <td>0.221200</td>\n",
              "    </tr>\n",
              "    <tr>\n",
              "      <th>std</th>\n",
              "      <td>8660.398374</td>\n",
              "      <td>129747.661567</td>\n",
              "      <td>0.489129</td>\n",
              "      <td>0.790349</td>\n",
              "      <td>0.521970</td>\n",
              "      <td>9.217904</td>\n",
              "      <td>1.123802</td>\n",
              "      <td>1.197186</td>\n",
              "      <td>1.196868</td>\n",
              "      <td>1.169139</td>\n",
              "      <td>1.133187</td>\n",
              "      <td>1.149988</td>\n",
              "      <td>73635.860576</td>\n",
              "      <td>71173.768783</td>\n",
              "      <td>6.934939e+04</td>\n",
              "      <td>64332.856134</td>\n",
              "      <td>60797.155770</td>\n",
              "      <td>59554.107537</td>\n",
              "      <td>16563.280354</td>\n",
              "      <td>2.304087e+04</td>\n",
              "      <td>17606.96147</td>\n",
              "      <td>15666.159744</td>\n",
              "      <td>15278.305679</td>\n",
              "      <td>17777.465775</td>\n",
              "      <td>0.415062</td>\n",
              "    </tr>\n",
              "    <tr>\n",
              "      <th>min</th>\n",
              "      <td>1.000000</td>\n",
              "      <td>10000.000000</td>\n",
              "      <td>1.000000</td>\n",
              "      <td>0.000000</td>\n",
              "      <td>0.000000</td>\n",
              "      <td>21.000000</td>\n",
              "      <td>-2.000000</td>\n",
              "      <td>-2.000000</td>\n",
              "      <td>-2.000000</td>\n",
              "      <td>-2.000000</td>\n",
              "      <td>-2.000000</td>\n",
              "      <td>-2.000000</td>\n",
              "      <td>-165580.000000</td>\n",
              "      <td>-69777.000000</td>\n",
              "      <td>-1.572640e+05</td>\n",
              "      <td>-170000.000000</td>\n",
              "      <td>-81334.000000</td>\n",
              "      <td>-339603.000000</td>\n",
              "      <td>0.000000</td>\n",
              "      <td>0.000000e+00</td>\n",
              "      <td>0.00000</td>\n",
              "      <td>0.000000</td>\n",
              "      <td>0.000000</td>\n",
              "      <td>0.000000</td>\n",
              "      <td>0.000000</td>\n",
              "    </tr>\n",
              "    <tr>\n",
              "      <th>25%</th>\n",
              "      <td>7500.750000</td>\n",
              "      <td>50000.000000</td>\n",
              "      <td>1.000000</td>\n",
              "      <td>1.000000</td>\n",
              "      <td>1.000000</td>\n",
              "      <td>28.000000</td>\n",
              "      <td>-1.000000</td>\n",
              "      <td>-1.000000</td>\n",
              "      <td>-1.000000</td>\n",
              "      <td>-1.000000</td>\n",
              "      <td>-1.000000</td>\n",
              "      <td>-1.000000</td>\n",
              "      <td>3558.750000</td>\n",
              "      <td>2984.750000</td>\n",
              "      <td>2.666250e+03</td>\n",
              "      <td>2326.750000</td>\n",
              "      <td>1763.000000</td>\n",
              "      <td>1256.000000</td>\n",
              "      <td>1000.000000</td>\n",
              "      <td>8.330000e+02</td>\n",
              "      <td>390.00000</td>\n",
              "      <td>296.000000</td>\n",
              "      <td>252.500000</td>\n",
              "      <td>117.750000</td>\n",
              "      <td>0.000000</td>\n",
              "    </tr>\n",
              "    <tr>\n",
              "      <th>50%</th>\n",
              "      <td>15000.500000</td>\n",
              "      <td>140000.000000</td>\n",
              "      <td>2.000000</td>\n",
              "      <td>2.000000</td>\n",
              "      <td>2.000000</td>\n",
              "      <td>34.000000</td>\n",
              "      <td>0.000000</td>\n",
              "      <td>0.000000</td>\n",
              "      <td>0.000000</td>\n",
              "      <td>0.000000</td>\n",
              "      <td>0.000000</td>\n",
              "      <td>0.000000</td>\n",
              "      <td>22381.500000</td>\n",
              "      <td>21200.000000</td>\n",
              "      <td>2.008850e+04</td>\n",
              "      <td>19052.000000</td>\n",
              "      <td>18104.500000</td>\n",
              "      <td>17071.000000</td>\n",
              "      <td>2100.000000</td>\n",
              "      <td>2.009000e+03</td>\n",
              "      <td>1800.00000</td>\n",
              "      <td>1500.000000</td>\n",
              "      <td>1500.000000</td>\n",
              "      <td>1500.000000</td>\n",
              "      <td>0.000000</td>\n",
              "    </tr>\n",
              "    <tr>\n",
              "      <th>75%</th>\n",
              "      <td>22500.250000</td>\n",
              "      <td>240000.000000</td>\n",
              "      <td>2.000000</td>\n",
              "      <td>2.000000</td>\n",
              "      <td>2.000000</td>\n",
              "      <td>41.000000</td>\n",
              "      <td>0.000000</td>\n",
              "      <td>0.000000</td>\n",
              "      <td>0.000000</td>\n",
              "      <td>0.000000</td>\n",
              "      <td>0.000000</td>\n",
              "      <td>0.000000</td>\n",
              "      <td>67091.000000</td>\n",
              "      <td>64006.250000</td>\n",
              "      <td>6.016475e+04</td>\n",
              "      <td>54506.000000</td>\n",
              "      <td>50190.500000</td>\n",
              "      <td>49198.250000</td>\n",
              "      <td>5006.000000</td>\n",
              "      <td>5.000000e+03</td>\n",
              "      <td>4505.00000</td>\n",
              "      <td>4013.250000</td>\n",
              "      <td>4031.500000</td>\n",
              "      <td>4000.000000</td>\n",
              "      <td>0.000000</td>\n",
              "    </tr>\n",
              "    <tr>\n",
              "      <th>max</th>\n",
              "      <td>30000.000000</td>\n",
              "      <td>1000000.000000</td>\n",
              "      <td>2.000000</td>\n",
              "      <td>6.000000</td>\n",
              "      <td>3.000000</td>\n",
              "      <td>79.000000</td>\n",
              "      <td>8.000000</td>\n",
              "      <td>8.000000</td>\n",
              "      <td>8.000000</td>\n",
              "      <td>8.000000</td>\n",
              "      <td>8.000000</td>\n",
              "      <td>8.000000</td>\n",
              "      <td>964511.000000</td>\n",
              "      <td>983931.000000</td>\n",
              "      <td>1.664089e+06</td>\n",
              "      <td>891586.000000</td>\n",
              "      <td>927171.000000</td>\n",
              "      <td>961664.000000</td>\n",
              "      <td>873552.000000</td>\n",
              "      <td>1.684259e+06</td>\n",
              "      <td>896040.00000</td>\n",
              "      <td>621000.000000</td>\n",
              "      <td>426529.000000</td>\n",
              "      <td>528666.000000</td>\n",
              "      <td>1.000000</td>\n",
              "    </tr>\n",
              "  </tbody>\n",
              "</table>\n",
              "</div>"
            ],
            "text/plain": [
              "                 ID       LIMIT_BAL  ...       PAY_AMT6  default payment next month\n",
              "count  30000.000000    30000.000000  ...   30000.000000                30000.000000\n",
              "mean   15000.500000   167484.322667  ...    5215.502567                    0.221200\n",
              "std     8660.398374   129747.661567  ...   17777.465775                    0.415062\n",
              "min        1.000000    10000.000000  ...       0.000000                    0.000000\n",
              "25%     7500.750000    50000.000000  ...     117.750000                    0.000000\n",
              "50%    15000.500000   140000.000000  ...    1500.000000                    0.000000\n",
              "75%    22500.250000   240000.000000  ...    4000.000000                    0.000000\n",
              "max    30000.000000  1000000.000000  ...  528666.000000                    1.000000\n",
              "\n",
              "[8 rows x 25 columns]"
            ]
          },
          "metadata": {},
          "execution_count": 13
        }
      ]
    },
    {
      "cell_type": "markdown",
      "metadata": {
        "id": "Tv7j0FGRokAb"
      },
      "source": [
        "---\n",
        "# Univariate analysis\n",
        "---"
      ]
    },
    {
      "cell_type": "code",
      "metadata": {
        "id": "bORfSC8Cpj0K"
      },
      "source": [
        "#changing the names of columns\n",
        "df.rename(columns={'default payment next month' : 'Is_Defaulter','PAY_0': 'PAY_1'}, inplace=True)"
      ],
      "execution_count": 14,
      "outputs": []
    },
    {
      "cell_type": "code",
      "metadata": {
        "colab": {
          "base_uri": "https://localhost:8080/",
          "height": 0
        },
        "id": "nMdVtHntolZD",
        "outputId": "ee52a657-23a8-43a0-f7a6-5298a107a195"
      },
      "source": [
        "# to check weather the data set is balance or not \n",
        "sns.countplot(df['Is_Defaulter'])"
      ],
      "execution_count": 15,
      "outputs": [
        {
          "output_type": "execute_result",
          "data": {
            "text/plain": [
              "<matplotlib.axes._subplots.AxesSubplot at 0x7fdceaa6c850>"
            ]
          },
          "metadata": {},
          "execution_count": 15
        },
        {
          "output_type": "display_data",
          "data": {
            "image/png": "[encoded data removed]",
            "text/plain": [
              "<Figure size 432x288 with 1 Axes>"
            ]
          },
          "metadata": {
            "needs_background": "light"
          }
        }
      ]
    },
    {
      "cell_type": "markdown",
      "metadata": {
        "id": "TWVnbGyfZO0L"
      },
      "source": [
        "this data set is quite imbalance with defaulter as only 22 percent "
      ]
    },
    {
      "cell_type": "markdown",
      "metadata": {
        "id": "-oew2dQYjCTr"
      },
      "source": [
        "---\n",
        "# Bivariate Analysis\n",
        "---"
      ]
    },
    {
      "cell_type": "markdown",
      "metadata": {
        "id": "_oEopRYKjIR0"
      },
      "source": [
        "## Sex"
      ]
    },
    {
      "cell_type": "code",
      "metadata": {
        "id": "C5sRfBGwqjN6"
      },
      "source": [
        "# creating a dataframe for catagorical varibles\n",
        "categorical_features = ['SEX', 'EDUCATION', 'MARRIAGE','Is_Defaulter']\n",
        "df_cat = df[categorical_features]"
      ],
      "execution_count": 16,
      "outputs": []
    },
    {
      "cell_type": "code",
      "metadata": {
        "id": "bsflmLT2qvWM"
      },
      "source": [
        "# changing the lable values to understandable values\n",
        "df_cat.replace({'SEX': {1 : 'Male', 2 : 'Female'}, 'EDUCATION' : {1 : 'graduate school', 2 : 'university', 3 : 'high school', 4 : 'others',}, 'MARRIAGE' : {1 : 'Married', 2 : 'Single', 3 : 'Others'}}, inplace = True)"
      ],
      "execution_count": 17,
      "outputs": []
    },
    {
      "cell_type": "code",
      "metadata": {
        "colab": {
          "base_uri": "https://localhost:8080/",
          "height": 0
        },
        "id": "PPtuTPaCsVOY",
        "outputId": "8cf86b72-9c1e-41cf-cbbd-2509c65ef22e"
      },
      "source": [
        "sns.countplot(x = 'SEX', hue = 'Is_Defaulter', data = df_cat)"
      ],
      "execution_count": 18,
      "outputs": [
        {
          "output_type": "execute_result",
          "data": {
            "text/plain": [
              "<matplotlib.axes._subplots.AxesSubplot at 0x7fdcece79350>"
            ]
          },
          "metadata": {},
          "execution_count": 18
        },
        {
          "output_type": "display_data",
          "data": {
            "image/png": "[encoded data removed]",
            "text/plain": [
              "<Figure size 432x288 with 1 Axes>"
            ]
          },
          "metadata": {
            "needs_background": "light"
          }
        }
      ]
    },
    {
      "cell_type": "code",
      "metadata": {
        "colab": {
          "base_uri": "https://localhost:8080/",
          "height": 0
        },
        "id": "omfd7eAaYLP3",
        "outputId": "cdc0f6b1-c5e1-400a-a67a-fb1dfd328f8f"
      },
      "source": [
        "# finding the percentage values of the defaulters in sex\n",
        "df[['Is_Defaulter','SEX']].groupby('SEX').mean().reset_index()"
      ],
      "execution_count": 19,
      "outputs": [
        {
          "output_type": "execute_result",
          "data": {
            "text/html": [
              "<div>\n",
              "<style scoped>\n",
              "    .dataframe tbody tr th:only-of-type {\n",
              "        vertical-align: middle;\n",
              "    }\n",
              "\n",
              "    .dataframe tbody tr th {\n",
              "        vertical-align: top;\n",
              "    }\n",
              "\n",
              "    .dataframe thead th {\n",
              "        text-align: right;\n",
              "    }\n",
              "</style>\n",
              "<table border=\"1\" class=\"dataframe\">\n",
              "  <thead>\n",
              "    <tr style=\"text-align: right;\">\n",
              "      <th></th>\n",
              "      <th>SEX</th>\n",
              "      <th>Is_Defaulter</th>\n",
              "    </tr>\n",
              "  </thead>\n",
              "  <tbody>\n",
              "    <tr>\n",
              "      <th>0</th>\n",
              "      <td>1</td>\n",
              "      <td>0.241672</td>\n",
              "    </tr>\n",
              "    <tr>\n",
              "      <th>1</th>\n",
              "      <td>2</td>\n",
              "      <td>0.207763</td>\n",
              "    </tr>\n",
              "  </tbody>\n",
              "</table>\n",
              "</div>"
            ],
            "text/plain": [
              "   SEX  Is_Defaulter\n",
              "0    1      0.241672\n",
              "1    2      0.207763"
            ]
          },
          "metadata": {},
          "execution_count": 19
        }
      ]
    },
    {
      "cell_type": "markdown",
      "metadata": {
        "id": "0TBPvRxLW5Vg"
      },
      "source": [
        "observation\n",
        "* number of women are more than number of men \n",
        "* male are more likely to default than women "
      ]
    },
    {
      "cell_type": "markdown",
      "metadata": {
        "id": "sf8WvqYijNDg"
      },
      "source": [
        "## Education"
      ]
    },
    {
      "cell_type": "code",
      "metadata": {
        "colab": {
          "base_uri": "https://localhost:8080/",
          "height": 0
        },
        "id": "BlcZAoTxsVGa",
        "outputId": "411cf80f-d158-4fb3-f9dc-5a0ffad47d23"
      },
      "source": [
        "sns.countplot(x = 'EDUCATION', hue = 'Is_Defaulter', data = df_cat)\n",
        "plt.xticks(rotation=45,horizontalalignment='right')"
      ],
      "execution_count": 20,
      "outputs": [
        {
          "output_type": "execute_result",
          "data": {
            "text/plain": [
              "(array([0, 1, 2, 3, 4, 5, 6]), <a list of 7 Text major ticklabel objects>)"
            ]
          },
          "metadata": {},
          "execution_count": 20
        },
        {
          "output_type": "display_data",
          "data": {
            "image/png": "[encoded data removed]",
            "text/plain": [
              "<Figure size 432x288 with 1 Axes>"
            ]
          },
          "metadata": {
            "needs_background": "light"
          }
        }
      ]
    },
    {
      "cell_type": "code",
      "metadata": {
        "id": "so75ZJgHc7K7"
      },
      "source": [
        "# replacing the values of undocumented lables to others\n",
        "df_cat.replace({'EDUCATION' : {5 : 'others', 6 : 'others', 0 : 'others'}},inplace=True)"
      ],
      "execution_count": 21,
      "outputs": []
    },
    {
      "cell_type": "code",
      "metadata": {
        "colab": {
          "base_uri": "https://localhost:8080/",
          "height": 0
        },
        "id": "IhWfZMN1dcbk",
        "outputId": "130a086c-ea30-4275-d0bc-eb4cad743777"
      },
      "source": [
        "sns.countplot(x = 'EDUCATION', hue = 'Is_Defaulter', data = df_cat)\n",
        "plt.xticks(rotation=45,horizontalalignment='right')"
      ],
      "execution_count": 22,
      "outputs": [
        {
          "output_type": "execute_result",
          "data": {
            "text/plain": [
              "(array([0, 1, 2, 3]), <a list of 4 Text major ticklabel objects>)"
            ]
          },
          "metadata": {},
          "execution_count": 22
        },
        {
          "output_type": "display_data",
          "data": {
            "image/png": "[encoded data removed]",
            "text/plain": [
              "<Figure size 432x288 with 1 Axes>"
            ]
          },
          "metadata": {
            "needs_background": "light"
          }
        }
      ]
    },
    {
      "cell_type": "code",
      "metadata": {
        "colab": {
          "base_uri": "https://localhost:8080/",
          "height": 0
        },
        "id": "uJTOuamOadud",
        "outputId": "003c49b1-7144-4904-b1a8-4bd0868a31fb"
      },
      "source": [
        "# finding the percentage values of the defaulters in education feature\n",
        "df_cat[['Is_Defaulter','EDUCATION']].groupby('EDUCATION').mean().reset_index()"
      ],
      "execution_count": 23,
      "outputs": [
        {
          "output_type": "execute_result",
          "data": {
            "text/html": [
              "<div>\n",
              "<style scoped>\n",
              "    .dataframe tbody tr th:only-of-type {\n",
              "        vertical-align: middle;\n",
              "    }\n",
              "\n",
              "    .dataframe tbody tr th {\n",
              "        vertical-align: top;\n",
              "    }\n",
              "\n",
              "    .dataframe thead th {\n",
              "        text-align: right;\n",
              "    }\n",
              "</style>\n",
              "<table border=\"1\" class=\"dataframe\">\n",
              "  <thead>\n",
              "    <tr style=\"text-align: right;\">\n",
              "      <th></th>\n",
              "      <th>EDUCATION</th>\n",
              "      <th>Is_Defaulter</th>\n",
              "    </tr>\n",
              "  </thead>\n",
              "  <tbody>\n",
              "    <tr>\n",
              "      <th>0</th>\n",
              "      <td>graduate school</td>\n",
              "      <td>0.192348</td>\n",
              "    </tr>\n",
              "    <tr>\n",
              "      <th>1</th>\n",
              "      <td>high school</td>\n",
              "      <td>0.251576</td>\n",
              "    </tr>\n",
              "    <tr>\n",
              "      <th>2</th>\n",
              "      <td>others</td>\n",
              "      <td>0.070513</td>\n",
              "    </tr>\n",
              "    <tr>\n",
              "      <th>3</th>\n",
              "      <td>university</td>\n",
              "      <td>0.237349</td>\n",
              "    </tr>\n",
              "  </tbody>\n",
              "</table>\n",
              "</div>"
            ],
            "text/plain": [
              "         EDUCATION  Is_Defaulter\n",
              "0  graduate school      0.192348\n",
              "1      high school      0.251576\n",
              "2           others      0.070513\n",
              "3       university      0.237349"
            ]
          },
          "metadata": {},
          "execution_count": 23
        }
      ]
    },
    {
      "cell_type": "markdown",
      "metadata": {
        "id": "ESpO0TDQW7e_"
      },
      "source": [
        "**Obsevation**\n",
        "* category 5,6 and 0 are undocumented which might be of lower education,no education or education higher than high school we can convert them to others \n",
        "* as the eduaction increases the chances of defaulter also increaases"
      ]
    },
    {
      "cell_type": "markdown",
      "metadata": {
        "id": "7-wN5HfNjRrb"
      },
      "source": [
        "## Marriage"
      ]
    },
    {
      "cell_type": "code",
      "metadata": {
        "colab": {
          "base_uri": "https://localhost:8080/",
          "height": 0
        },
        "id": "IEDSBSpMsUwY",
        "outputId": "8eccdc19-202d-4e3d-8d3e-b11e8e0368be"
      },
      "source": [
        "sns.countplot(x = 'MARRIAGE', hue = 'Is_Defaulter', data = df_cat)"
      ],
      "execution_count": 24,
      "outputs": [
        {
          "output_type": "execute_result",
          "data": {
            "text/plain": [
              "<matplotlib.axes._subplots.AxesSubplot at 0x7fdcecdda150>"
            ]
          },
          "metadata": {},
          "execution_count": 24
        },
        {
          "output_type": "display_data",
          "data": {
            "image/png": "[encoded data removed]",
            "text/plain": [
              "<Figure size 432x288 with 1 Axes>"
            ]
          },
          "metadata": {
            "needs_background": "light"
          }
        }
      ]
    },
    {
      "cell_type": "code",
      "metadata": {
        "id": "g2WmNLMBdm-q"
      },
      "source": [
        "# replacing the values of undocumented lables to others\n",
        "df_cat.replace({'MARRIAGE' : {0 : 'Others'}},inplace=True)"
      ],
      "execution_count": 25,
      "outputs": []
    },
    {
      "cell_type": "code",
      "metadata": {
        "colab": {
          "base_uri": "https://localhost:8080/",
          "height": 0
        },
        "id": "ZuzbuJYsdvdU",
        "outputId": "6fd844cb-9205-4f4e-f3e6-47f992790c64"
      },
      "source": [
        "sns.countplot(x = 'MARRIAGE', hue = 'Is_Defaulter', data = df_cat)"
      ],
      "execution_count": 26,
      "outputs": [
        {
          "output_type": "execute_result",
          "data": {
            "text/plain": [
              "<matplotlib.axes._subplots.AxesSubplot at 0x7fdcebd91590>"
            ]
          },
          "metadata": {},
          "execution_count": 26
        },
        {
          "output_type": "display_data",
          "data": {
            "image/png": "[encoded data removed]",
            "text/plain": [
              "<Figure size 432x288 with 1 Axes>"
            ]
          },
          "metadata": {
            "needs_background": "light"
          }
        }
      ]
    },
    {
      "cell_type": "code",
      "metadata": {
        "colab": {
          "base_uri": "https://localhost:8080/",
          "height": 0
        },
        "id": "jzVHkQhebHbv",
        "outputId": "61373e91-1973-47c7-d015-95339ce5156b"
      },
      "source": [
        "# finding the percentage values of the defaulters in education feature\n",
        "df_cat[['Is_Defaulter','MARRIAGE']].groupby('MARRIAGE').mean().reset_index()"
      ],
      "execution_count": 27,
      "outputs": [
        {
          "output_type": "execute_result",
          "data": {
            "text/html": [
              "<div>\n",
              "<style scoped>\n",
              "    .dataframe tbody tr th:only-of-type {\n",
              "        vertical-align: middle;\n",
              "    }\n",
              "\n",
              "    .dataframe tbody tr th {\n",
              "        vertical-align: top;\n",
              "    }\n",
              "\n",
              "    .dataframe thead th {\n",
              "        text-align: right;\n",
              "    }\n",
              "</style>\n",
              "<table border=\"1\" class=\"dataframe\">\n",
              "  <thead>\n",
              "    <tr style=\"text-align: right;\">\n",
              "      <th></th>\n",
              "      <th>MARRIAGE</th>\n",
              "      <th>Is_Defaulter</th>\n",
              "    </tr>\n",
              "  </thead>\n",
              "  <tbody>\n",
              "    <tr>\n",
              "      <th>0</th>\n",
              "      <td>Married</td>\n",
              "      <td>0.234717</td>\n",
              "    </tr>\n",
              "    <tr>\n",
              "      <th>1</th>\n",
              "      <td>Others</td>\n",
              "      <td>0.236074</td>\n",
              "    </tr>\n",
              "    <tr>\n",
              "      <th>2</th>\n",
              "      <td>Single</td>\n",
              "      <td>0.209283</td>\n",
              "    </tr>\n",
              "  </tbody>\n",
              "</table>\n",
              "</div>"
            ],
            "text/plain": [
              "  MARRIAGE  Is_Defaulter\n",
              "0  Married      0.234717\n",
              "1   Others      0.236074\n",
              "2   Single      0.209283"
            ]
          },
          "metadata": {},
          "execution_count": 27
        }
      ]
    },
    {
      "cell_type": "markdown",
      "metadata": {
        "id": "ClY6H4okXOrr"
      },
      "source": [
        "observation\n",
        "* MARRIAGE has a label 0 that is undocumented which can be converted to others\n",
        "* Married and others are more likely to default "
      ]
    },
    {
      "cell_type": "markdown",
      "metadata": {
        "id": "FEFgjPjajYGQ"
      },
      "source": [
        "## Age"
      ]
    },
    {
      "cell_type": "code",
      "metadata": {
        "id": "xSAqfcpYiDQW"
      },
      "source": [
        "# creating a dataframe for all the numeric features\n",
        "numerics = ['int16', 'int32', 'int64', 'float16', 'float32', 'float64']\n",
        "df_num = df.select_dtypes(include=numerics)"
      ],
      "execution_count": 28,
      "outputs": []
    },
    {
      "cell_type": "code",
      "metadata": {
        "colab": {
          "base_uri": "https://localhost:8080/",
          "height": 0
        },
        "id": "eW1iUtXXgEMb",
        "outputId": "83937a0d-853d-44ef-e70d-3a87a1ad1e31"
      },
      "source": [
        "sns.histplot(x='AGE', hue='Is_Defaulter',data=df_num)"
      ],
      "execution_count": 29,
      "outputs": [
        {
          "output_type": "execute_result",
          "data": {
            "text/plain": [
              "<matplotlib.axes._subplots.AxesSubplot at 0x7fdcea5a5810>"
            ]
          },
          "metadata": {},
          "execution_count": 29
        },
        {
          "output_type": "display_data",
          "data": {
            "image/png": "[encoded data removed]",
            "text/plain": [
              "<Figure size 432x288 with 1 Axes>"
            ]
          },
          "metadata": {
            "needs_background": "light"
          }
        }
      ]
    },
    {
      "cell_type": "code",
      "metadata": {
        "id": "YaQJfVTthutT"
      },
      "source": [
        "# grouping the age column to diffrent groups\n",
        "df_num['age_group']=df_num['AGE'].apply(lambda x: age_group(x))"
      ],
      "execution_count": 30,
      "outputs": []
    },
    {
      "cell_type": "code",
      "metadata": {
        "colab": {
          "base_uri": "https://localhost:8080/",
          "height": 0
        },
        "id": "G-UFH4clWktg",
        "outputId": "1af4fb5d-fd03-43df-b5a6-77d207eff987"
      },
      "source": [
        "sns.countplot(x=df_num['age_group'].sort_values(),data=df,hue='Is_Defaulter')"
      ],
      "execution_count": 31,
      "outputs": [
        {
          "output_type": "execute_result",
          "data": {
            "text/plain": [
              "<matplotlib.axes._subplots.AxesSubplot at 0x7fdcea470250>"
            ]
          },
          "metadata": {},
          "execution_count": 31
        },
        {
          "output_type": "display_data",
          "data": {
            "image/png": "[encoded data removed]",
            "text/plain": [
              "<Figure size 432x288 with 1 Axes>"
            ]
          },
          "metadata": {
            "needs_background": "light"
          }
        }
      ]
    },
    {
      "cell_type": "code",
      "metadata": {
        "colab": {
          "base_uri": "https://localhost:8080/",
          "height": 0
        },
        "id": "QWeM0Ewnh1ep",
        "outputId": "6bdba178-8749-4b5a-d6ae-85c7ced1361d"
      },
      "source": [
        "# finding the percentage values of the defaulters in education feature\n",
        "df_num[['Is_Defaulter','age_group']].groupby('age_group').mean().reset_index()"
      ],
      "execution_count": 32,
      "outputs": [
        {
          "output_type": "execute_result",
          "data": {
            "text/html": [
              "<div>\n",
              "<style scoped>\n",
              "    .dataframe tbody tr th:only-of-type {\n",
              "        vertical-align: middle;\n",
              "    }\n",
              "\n",
              "    .dataframe tbody tr th {\n",
              "        vertical-align: top;\n",
              "    }\n",
              "\n",
              "    .dataframe thead th {\n",
              "        text-align: right;\n",
              "    }\n",
              "</style>\n",
              "<table border=\"1\" class=\"dataframe\">\n",
              "  <thead>\n",
              "    <tr style=\"text-align: right;\">\n",
              "      <th></th>\n",
              "      <th>age_group</th>\n",
              "      <th>Is_Defaulter</th>\n",
              "    </tr>\n",
              "  </thead>\n",
              "  <tbody>\n",
              "    <tr>\n",
              "      <th>0</th>\n",
              "      <td>21_29</td>\n",
              "      <td>0.228426</td>\n",
              "    </tr>\n",
              "    <tr>\n",
              "      <th>1</th>\n",
              "      <td>30_39</td>\n",
              "      <td>0.202527</td>\n",
              "    </tr>\n",
              "    <tr>\n",
              "      <th>2</th>\n",
              "      <td>40_49</td>\n",
              "      <td>0.229734</td>\n",
              "    </tr>\n",
              "    <tr>\n",
              "      <th>3</th>\n",
              "      <td>50_59</td>\n",
              "      <td>0.248612</td>\n",
              "    </tr>\n",
              "    <tr>\n",
              "      <th>4</th>\n",
              "      <td>60_&amp;_above</td>\n",
              "      <td>0.283186</td>\n",
              "    </tr>\n",
              "  </tbody>\n",
              "</table>\n",
              "</div>"
            ],
            "text/plain": [
              "    age_group  Is_Defaulter\n",
              "0       21_29      0.228426\n",
              "1       30_39      0.202527\n",
              "2       40_49      0.229734\n",
              "3       50_59      0.248612\n",
              "4  60_&_above      0.283186"
            ]
          },
          "metadata": {},
          "execution_count": 32
        }
      ]
    },
    {
      "cell_type": "markdown",
      "metadata": {
        "id": "GBT01vWkiuyZ"
      },
      "source": [
        "observation\n",
        "* as the age increases the number of defaulters also increases"
      ]
    },
    {
      "cell_type": "markdown",
      "metadata": {
        "id": "4NLW_t1LaLz3"
      },
      "source": [
        "## Pay"
      ]
    },
    {
      "cell_type": "code",
      "metadata": {
        "id": "CC7n1ONCU9XX"
      },
      "source": [
        "pay_df=df[['PAY_1', 'PAY_2', 'PAY_3', 'PAY_4', 'PAY_5', 'PAY_6']]"
      ],
      "execution_count": 33,
      "outputs": []
    },
    {
      "cell_type": "code",
      "metadata": {
        "colab": {
          "base_uri": "https://localhost:8080/",
          "height": 0
        },
        "id": "lyA7gdMfkOUV",
        "outputId": "941fcae2-6d21-4419-c983-43a542c53ae2"
      },
      "source": [
        "pay_df.describe()"
      ],
      "execution_count": 34,
      "outputs": [
        {
          "output_type": "execute_result",
          "data": {
            "text/html": [
              "<div>\n",
              "<style scoped>\n",
              "    .dataframe tbody tr th:only-of-type {\n",
              "        vertical-align: middle;\n",
              "    }\n",
              "\n",
              "    .dataframe tbody tr th {\n",
              "        vertical-align: top;\n",
              "    }\n",
              "\n",
              "    .dataframe thead th {\n",
              "        text-align: right;\n",
              "    }\n",
              "</style>\n",
              "<table border=\"1\" class=\"dataframe\">\n",
              "  <thead>\n",
              "    <tr style=\"text-align: right;\">\n",
              "      <th></th>\n",
              "      <th>PAY_1</th>\n",
              "      <th>PAY_2</th>\n",
              "      <th>PAY_3</th>\n",
              "      <th>PAY_4</th>\n",
              "      <th>PAY_5</th>\n",
              "      <th>PAY_6</th>\n",
              "    </tr>\n",
              "  </thead>\n",
              "  <tbody>\n",
              "    <tr>\n",
              "      <th>count</th>\n",
              "      <td>30000.000000</td>\n",
              "      <td>30000.000000</td>\n",
              "      <td>30000.000000</td>\n",
              "      <td>30000.000000</td>\n",
              "      <td>30000.000000</td>\n",
              "      <td>30000.000000</td>\n",
              "    </tr>\n",
              "    <tr>\n",
              "      <th>mean</th>\n",
              "      <td>-0.016700</td>\n",
              "      <td>-0.133767</td>\n",
              "      <td>-0.166200</td>\n",
              "      <td>-0.220667</td>\n",
              "      <td>-0.266200</td>\n",
              "      <td>-0.291100</td>\n",
              "    </tr>\n",
              "    <tr>\n",
              "      <th>std</th>\n",
              "      <td>1.123802</td>\n",
              "      <td>1.197186</td>\n",
              "      <td>1.196868</td>\n",
              "      <td>1.169139</td>\n",
              "      <td>1.133187</td>\n",
              "      <td>1.149988</td>\n",
              "    </tr>\n",
              "    <tr>\n",
              "      <th>min</th>\n",
              "      <td>-2.000000</td>\n",
              "      <td>-2.000000</td>\n",
              "      <td>-2.000000</td>\n",
              "      <td>-2.000000</td>\n",
              "      <td>-2.000000</td>\n",
              "      <td>-2.000000</td>\n",
              "    </tr>\n",
              "    <tr>\n",
              "      <th>25%</th>\n",
              "      <td>-1.000000</td>\n",
              "      <td>-1.000000</td>\n",
              "      <td>-1.000000</td>\n",
              "      <td>-1.000000</td>\n",
              "      <td>-1.000000</td>\n",
              "      <td>-1.000000</td>\n",
              "    </tr>\n",
              "    <tr>\n",
              "      <th>50%</th>\n",
              "      <td>0.000000</td>\n",
              "      <td>0.000000</td>\n",
              "      <td>0.000000</td>\n",
              "      <td>0.000000</td>\n",
              "      <td>0.000000</td>\n",
              "      <td>0.000000</td>\n",
              "    </tr>\n",
              "    <tr>\n",
              "      <th>75%</th>\n",
              "      <td>0.000000</td>\n",
              "      <td>0.000000</td>\n",
              "      <td>0.000000</td>\n",
              "      <td>0.000000</td>\n",
              "      <td>0.000000</td>\n",
              "      <td>0.000000</td>\n",
              "    </tr>\n",
              "    <tr>\n",
              "      <th>max</th>\n",
              "      <td>8.000000</td>\n",
              "      <td>8.000000</td>\n",
              "      <td>8.000000</td>\n",
              "      <td>8.000000</td>\n",
              "      <td>8.000000</td>\n",
              "      <td>8.000000</td>\n",
              "    </tr>\n",
              "  </tbody>\n",
              "</table>\n",
              "</div>"
            ],
            "text/plain": [
              "              PAY_1         PAY_2  ...         PAY_5         PAY_6\n",
              "count  30000.000000  30000.000000  ...  30000.000000  30000.000000\n",
              "mean      -0.016700     -0.133767  ...     -0.266200     -0.291100\n",
              "std        1.123802      1.197186  ...      1.133187      1.149988\n",
              "min       -2.000000     -2.000000  ...     -2.000000     -2.000000\n",
              "25%       -1.000000     -1.000000  ...     -1.000000     -1.000000\n",
              "50%        0.000000      0.000000  ...      0.000000      0.000000\n",
              "75%        0.000000      0.000000  ...      0.000000      0.000000\n",
              "max        8.000000      8.000000  ...      8.000000      8.000000\n",
              "\n",
              "[8 rows x 6 columns]"
            ]
          },
          "metadata": {},
          "execution_count": 34
        }
      ]
    },
    {
      "cell_type": "markdown",
      "metadata": {
        "id": "r3nwcqjjntjd"
      },
      "source": [
        "observation\n",
        "\n",
        "* payment months has a label 0 that is undocumented\n",
        "* -2 might mean that payment is payed before time or payed duly so we can convert this -2,-1 to 0 as payed duly"
      ]
    },
    {
      "cell_type": "markdown",
      "metadata": {
        "id": "oAxup2KraT1o"
      },
      "source": [
        "## Bill Amount"
      ]
    },
    {
      "cell_type": "code",
      "metadata": {
        "id": "feYIvkeeUyEL"
      },
      "source": [
        "bill_amt_df=df[['BILL_AMT1', 'BILL_AMT2', 'BILL_AMT3', 'BILL_AMT4', 'BILL_AMT5', 'BILL_AMT6']]"
      ],
      "execution_count": 35,
      "outputs": []
    },
    {
      "cell_type": "code",
      "metadata": {
        "colab": {
          "base_uri": "https://localhost:8080/",
          "height": 0
        },
        "id": "Pr50PvjHRuc4",
        "outputId": "52f4338f-ce78-421d-ccdc-fa4592d92c8a"
      },
      "source": [
        "bill_amt_df.describe()"
      ],
      "execution_count": 36,
      "outputs": [
        {
          "output_type": "execute_result",
          "data": {
            "text/html": [
              "<div>\n",
              "<style scoped>\n",
              "    .dataframe tbody tr th:only-of-type {\n",
              "        vertical-align: middle;\n",
              "    }\n",
              "\n",
              "    .dataframe tbody tr th {\n",
              "        vertical-align: top;\n",
              "    }\n",
              "\n",
              "    .dataframe thead th {\n",
              "        text-align: right;\n",
              "    }\n",
              "</style>\n",
              "<table border=\"1\" class=\"dataframe\">\n",
              "  <thead>\n",
              "    <tr style=\"text-align: right;\">\n",
              "      <th></th>\n",
              "      <th>BILL_AMT1</th>\n",
              "      <th>BILL_AMT2</th>\n",
              "      <th>BILL_AMT3</th>\n",
              "      <th>BILL_AMT4</th>\n",
              "      <th>BILL_AMT5</th>\n",
              "      <th>BILL_AMT6</th>\n",
              "    </tr>\n",
              "  </thead>\n",
              "  <tbody>\n",
              "    <tr>\n",
              "      <th>count</th>\n",
              "      <td>30000.000000</td>\n",
              "      <td>30000.000000</td>\n",
              "      <td>3.000000e+04</td>\n",
              "      <td>30000.000000</td>\n",
              "      <td>30000.000000</td>\n",
              "      <td>30000.000000</td>\n",
              "    </tr>\n",
              "    <tr>\n",
              "      <th>mean</th>\n",
              "      <td>51223.330900</td>\n",
              "      <td>49179.075167</td>\n",
              "      <td>4.701315e+04</td>\n",
              "      <td>43262.948967</td>\n",
              "      <td>40311.400967</td>\n",
              "      <td>38871.760400</td>\n",
              "    </tr>\n",
              "    <tr>\n",
              "      <th>std</th>\n",
              "      <td>73635.860576</td>\n",
              "      <td>71173.768783</td>\n",
              "      <td>6.934939e+04</td>\n",
              "      <td>64332.856134</td>\n",
              "      <td>60797.155770</td>\n",
              "      <td>59554.107537</td>\n",
              "    </tr>\n",
              "    <tr>\n",
              "      <th>min</th>\n",
              "      <td>-165580.000000</td>\n",
              "      <td>-69777.000000</td>\n",
              "      <td>-1.572640e+05</td>\n",
              "      <td>-170000.000000</td>\n",
              "      <td>-81334.000000</td>\n",
              "      <td>-339603.000000</td>\n",
              "    </tr>\n",
              "    <tr>\n",
              "      <th>25%</th>\n",
              "      <td>3558.750000</td>\n",
              "      <td>2984.750000</td>\n",
              "      <td>2.666250e+03</td>\n",
              "      <td>2326.750000</td>\n",
              "      <td>1763.000000</td>\n",
              "      <td>1256.000000</td>\n",
              "    </tr>\n",
              "    <tr>\n",
              "      <th>50%</th>\n",
              "      <td>22381.500000</td>\n",
              "      <td>21200.000000</td>\n",
              "      <td>2.008850e+04</td>\n",
              "      <td>19052.000000</td>\n",
              "      <td>18104.500000</td>\n",
              "      <td>17071.000000</td>\n",
              "    </tr>\n",
              "    <tr>\n",
              "      <th>75%</th>\n",
              "      <td>67091.000000</td>\n",
              "      <td>64006.250000</td>\n",
              "      <td>6.016475e+04</td>\n",
              "      <td>54506.000000</td>\n",
              "      <td>50190.500000</td>\n",
              "      <td>49198.250000</td>\n",
              "    </tr>\n",
              "    <tr>\n",
              "      <th>max</th>\n",
              "      <td>964511.000000</td>\n",
              "      <td>983931.000000</td>\n",
              "      <td>1.664089e+06</td>\n",
              "      <td>891586.000000</td>\n",
              "      <td>927171.000000</td>\n",
              "      <td>961664.000000</td>\n",
              "    </tr>\n",
              "  </tbody>\n",
              "</table>\n",
              "</div>"
            ],
            "text/plain": [
              "           BILL_AMT1      BILL_AMT2  ...      BILL_AMT5      BILL_AMT6\n",
              "count   30000.000000   30000.000000  ...   30000.000000   30000.000000\n",
              "mean    51223.330900   49179.075167  ...   40311.400967   38871.760400\n",
              "std     73635.860576   71173.768783  ...   60797.155770   59554.107537\n",
              "min   -165580.000000  -69777.000000  ...  -81334.000000 -339603.000000\n",
              "25%      3558.750000    2984.750000  ...    1763.000000    1256.000000\n",
              "50%     22381.500000   21200.000000  ...   18104.500000   17071.000000\n",
              "75%     67091.000000   64006.250000  ...   50190.500000   49198.250000\n",
              "max    964511.000000  983931.000000  ...  927171.000000  961664.000000\n",
              "\n",
              "[8 rows x 6 columns]"
            ]
          },
          "metadata": {},
          "execution_count": 36
        }
      ]
    },
    {
      "cell_type": "markdown",
      "metadata": {
        "id": "XqWtcjTrRsvp"
      },
      "source": [
        "observation \n",
        "* -ve values can be of credit"
      ]
    },
    {
      "cell_type": "markdown",
      "metadata": {
        "id": "xypP2kuDozH-"
      },
      "source": [
        "---\n",
        "# Feature engineering\n",
        "---"
      ]
    },
    {
      "cell_type": "code",
      "metadata": {
        "id": "rccQ45XM34Qw"
      },
      "source": [
        "#converting the outlers to relavent labels\n",
        "# replacing male(1) to 0 and female(2) to 1\n",
        "df.replace({'SEX': {1 : 0, 2 : 1}, 'EDUCATION' : {1 : 'graduate school', 2 : 'university', 3 : 'high school', 4 : 'others',5 : 'others', 6 : 'others', 0 : 'others',}, 'MARRIAGE' : {1 : 'Married', 2 : 'Single', 3 : 'Others', 0 :'Others'}}, inplace = True)"
      ],
      "execution_count": 37,
      "outputs": []
    },
    {
      "cell_type": "code",
      "metadata": {
        "colab": {
          "base_uri": "https://localhost:8080/"
        },
        "id": "6r2iu2NfpEeF",
        "outputId": "5c135529-f1d5-40de-e0fc-c1ee99fbb909"
      },
      "source": [
        "df.EDUCATION.value_counts()"
      ],
      "execution_count": 38,
      "outputs": [
        {
          "output_type": "execute_result",
          "data": {
            "text/plain": [
              "university         14030\n",
              "graduate school    10585\n",
              "high school         4917\n",
              "others               468\n",
              "Name: EDUCATION, dtype: int64"
            ]
          },
          "metadata": {},
          "execution_count": 38
        }
      ]
    },
    {
      "cell_type": "code",
      "metadata": {
        "colab": {
          "base_uri": "https://localhost:8080/"
        },
        "id": "0gJHTfFzqTEY",
        "outputId": "dd6beab1-4426-40d6-fc90-2045219d3fc8"
      },
      "source": [
        "df['MARRIAGE'].value_counts()"
      ],
      "execution_count": 39,
      "outputs": [
        {
          "output_type": "execute_result",
          "data": {
            "text/plain": [
              "Single     15964\n",
              "Married    13659\n",
              "Others       377\n",
              "Name: MARRIAGE, dtype: int64"
            ]
          },
          "metadata": {},
          "execution_count": 39
        }
      ]
    },
    {
      "cell_type": "code",
      "metadata": {
        "id": "Vs2mSMHEP72p"
      },
      "source": [
        "# grouping the age feature by a cousom function in group of 10\n",
        "df['age_group']=df['AGE'].apply(lambda x: age_group(x))"
      ],
      "execution_count": 40,
      "outputs": []
    },
    {
      "cell_type": "code",
      "metadata": {
        "id": "pMgN4ferxqWh"
      },
      "source": [
        "#droping the age feature \n",
        "df=df.drop('AGE',axis=1)"
      ],
      "execution_count": 41,
      "outputs": []
    },
    {
      "cell_type": "code",
      "metadata": {
        "id": "bHWvwrCJQJv9"
      },
      "source": [
        "# converting the columns to dummy variables\n",
        "df = pd.get_dummies(df,columns=['EDUCATION','MARRIAGE','age_group'])"
      ],
      "execution_count": 42,
      "outputs": []
    },
    {
      "cell_type": "code",
      "metadata": {
        "id": "o1Fwig9x6nyd"
      },
      "source": [
        "# droping the id feature as it is uniqe for each row\n",
        "df=df.drop('ID',axis=1)"
      ],
      "execution_count": 43,
      "outputs": []
    },
    {
      "cell_type": "code",
      "metadata": {
        "colab": {
          "base_uri": "https://localhost:8080/"
        },
        "id": "h42Vuazu3jgO",
        "outputId": "44370cb7-38fd-4509-e7d4-04a9492cc12a"
      },
      "source": [
        "# fetching the names of the coumns\n",
        "df.columns"
      ],
      "execution_count": 44,
      "outputs": [
        {
          "output_type": "execute_result",
          "data": {
            "text/plain": [
              "Index(['LIMIT_BAL', 'SEX', 'PAY_1', 'PAY_2', 'PAY_3', 'PAY_4', 'PAY_5',\n",
              "       'PAY_6', 'BILL_AMT1', 'BILL_AMT2', 'BILL_AMT3', 'BILL_AMT4',\n",
              "       'BILL_AMT5', 'BILL_AMT6', 'PAY_AMT1', 'PAY_AMT2', 'PAY_AMT3',\n",
              "       'PAY_AMT4', 'PAY_AMT5', 'PAY_AMT6', 'Is_Defaulter',\n",
              "       'EDUCATION_graduate school', 'EDUCATION_high school',\n",
              "       'EDUCATION_others', 'EDUCATION_university', 'MARRIAGE_Married',\n",
              "       'MARRIAGE_Others', 'MARRIAGE_Single', 'age_group_21_29',\n",
              "       'age_group_30_39', 'age_group_40_49', 'age_group_50_59',\n",
              "       'age_group_60_&_above'],\n",
              "      dtype='object')"
            ]
          },
          "metadata": {},
          "execution_count": 44
        }
      ]
    },
    {
      "cell_type": "code",
      "metadata": {
        "colab": {
          "base_uri": "https://localhost:8080/",
          "height": 241
        },
        "id": "vANbzP0X3lK-",
        "outputId": "243297d4-4a18-4055-de88-2b5be76d7877"
      },
      "source": [
        "# fetching first 5 rows of the data\n",
        "df.head()"
      ],
      "execution_count": 45,
      "outputs": [
        {
          "output_type": "execute_result",
          "data": {
            "text/html": [
              "<div>\n",
              "<style scoped>\n",
              "    .dataframe tbody tr th:only-of-type {\n",
              "        vertical-align: middle;\n",
              "    }\n",
              "\n",
              "    .dataframe tbody tr th {\n",
              "        vertical-align: top;\n",
              "    }\n",
              "\n",
              "    .dataframe thead th {\n",
              "        text-align: right;\n",
              "    }\n",
              "</style>\n",
              "<table border=\"1\" class=\"dataframe\">\n",
              "  <thead>\n",
              "    <tr style=\"text-align: right;\">\n",
              "      <th></th>\n",
              "      <th>LIMIT_BAL</th>\n",
              "      <th>SEX</th>\n",
              "      <th>PAY_1</th>\n",
              "      <th>PAY_2</th>\n",
              "      <th>PAY_3</th>\n",
              "      <th>PAY_4</th>\n",
              "      <th>PAY_5</th>\n",
              "      <th>PAY_6</th>\n",
              "      <th>BILL_AMT1</th>\n",
              "      <th>BILL_AMT2</th>\n",
              "      <th>BILL_AMT3</th>\n",
              "      <th>BILL_AMT4</th>\n",
              "      <th>BILL_AMT5</th>\n",
              "      <th>BILL_AMT6</th>\n",
              "      <th>PAY_AMT1</th>\n",
              "      <th>PAY_AMT2</th>\n",
              "      <th>PAY_AMT3</th>\n",
              "      <th>PAY_AMT4</th>\n",
              "      <th>PAY_AMT5</th>\n",
              "      <th>PAY_AMT6</th>\n",
              "      <th>Is_Defaulter</th>\n",
              "      <th>EDUCATION_graduate school</th>\n",
              "      <th>EDUCATION_high school</th>\n",
              "      <th>EDUCATION_others</th>\n",
              "      <th>EDUCATION_university</th>\n",
              "      <th>MARRIAGE_Married</th>\n",
              "      <th>MARRIAGE_Others</th>\n",
              "      <th>MARRIAGE_Single</th>\n",
              "      <th>age_group_21_29</th>\n",
              "      <th>age_group_30_39</th>\n",
              "      <th>age_group_40_49</th>\n",
              "      <th>age_group_50_59</th>\n",
              "      <th>age_group_60_&amp;_above</th>\n",
              "    </tr>\n",
              "  </thead>\n",
              "  <tbody>\n",
              "    <tr>\n",
              "      <th>0</th>\n",
              "      <td>20000</td>\n",
              "      <td>1</td>\n",
              "      <td>2</td>\n",
              "      <td>2</td>\n",
              "      <td>-1</td>\n",
              "      <td>-1</td>\n",
              "      <td>-2</td>\n",
              "      <td>-2</td>\n",
              "      <td>3913</td>\n",
              "      <td>3102</td>\n",
              "      <td>689</td>\n",
              "      <td>0</td>\n",
              "      <td>0</td>\n",
              "      <td>0</td>\n",
              "      <td>0</td>\n",
              "      <td>689</td>\n",
              "      <td>0</td>\n",
              "      <td>0</td>\n",
              "      <td>0</td>\n",
              "      <td>0</td>\n",
              "      <td>1</td>\n",
              "      <td>0</td>\n",
              "      <td>0</td>\n",
              "      <td>0</td>\n",
              "      <td>1</td>\n",
              "      <td>1</td>\n",
              "      <td>0</td>\n",
              "      <td>0</td>\n",
              "      <td>1</td>\n",
              "      <td>0</td>\n",
              "      <td>0</td>\n",
              "      <td>0</td>\n",
              "      <td>0</td>\n",
              "    </tr>\n",
              "    <tr>\n",
              "      <th>1</th>\n",
              "      <td>120000</td>\n",
              "      <td>1</td>\n",
              "      <td>-1</td>\n",
              "      <td>2</td>\n",
              "      <td>0</td>\n",
              "      <td>0</td>\n",
              "      <td>0</td>\n",
              "      <td>2</td>\n",
              "      <td>2682</td>\n",
              "      <td>1725</td>\n",
              "      <td>2682</td>\n",
              "      <td>3272</td>\n",
              "      <td>3455</td>\n",
              "      <td>3261</td>\n",
              "      <td>0</td>\n",
              "      <td>1000</td>\n",
              "      <td>1000</td>\n",
              "      <td>1000</td>\n",
              "      <td>0</td>\n",
              "      <td>2000</td>\n",
              "      <td>1</td>\n",
              "      <td>0</td>\n",
              "      <td>0</td>\n",
              "      <td>0</td>\n",
              "      <td>1</td>\n",
              "      <td>0</td>\n",
              "      <td>0</td>\n",
              "      <td>1</td>\n",
              "      <td>1</td>\n",
              "      <td>0</td>\n",
              "      <td>0</td>\n",
              "      <td>0</td>\n",
              "      <td>0</td>\n",
              "    </tr>\n",
              "    <tr>\n",
              "      <th>2</th>\n",
              "      <td>90000</td>\n",
              "      <td>1</td>\n",
              "      <td>0</td>\n",
              "      <td>0</td>\n",
              "      <td>0</td>\n",
              "      <td>0</td>\n",
              "      <td>0</td>\n",
              "      <td>0</td>\n",
              "      <td>29239</td>\n",
              "      <td>14027</td>\n",
              "      <td>13559</td>\n",
              "      <td>14331</td>\n",
              "      <td>14948</td>\n",
              "      <td>15549</td>\n",
              "      <td>1518</td>\n",
              "      <td>1500</td>\n",
              "      <td>1000</td>\n",
              "      <td>1000</td>\n",
              "      <td>1000</td>\n",
              "      <td>5000</td>\n",
              "      <td>0</td>\n",
              "      <td>0</td>\n",
              "      <td>0</td>\n",
              "      <td>0</td>\n",
              "      <td>1</td>\n",
              "      <td>0</td>\n",
              "      <td>0</td>\n",
              "      <td>1</td>\n",
              "      <td>0</td>\n",
              "      <td>1</td>\n",
              "      <td>0</td>\n",
              "      <td>0</td>\n",
              "      <td>0</td>\n",
              "    </tr>\n",
              "    <tr>\n",
              "      <th>3</th>\n",
              "      <td>50000</td>\n",
              "      <td>1</td>\n",
              "      <td>0</td>\n",
              "      <td>0</td>\n",
              "      <td>0</td>\n",
              "      <td>0</td>\n",
              "      <td>0</td>\n",
              "      <td>0</td>\n",
              "      <td>46990</td>\n",
              "      <td>48233</td>\n",
              "      <td>49291</td>\n",
              "      <td>28314</td>\n",
              "      <td>28959</td>\n",
              "      <td>29547</td>\n",
              "      <td>2000</td>\n",
              "      <td>2019</td>\n",
              "      <td>1200</td>\n",
              "      <td>1100</td>\n",
              "      <td>1069</td>\n",
              "      <td>1000</td>\n",
              "      <td>0</td>\n",
              "      <td>0</td>\n",
              "      <td>0</td>\n",
              "      <td>0</td>\n",
              "      <td>1</td>\n",
              "      <td>1</td>\n",
              "      <td>0</td>\n",
              "      <td>0</td>\n",
              "      <td>0</td>\n",
              "      <td>1</td>\n",
              "      <td>0</td>\n",
              "      <td>0</td>\n",
              "      <td>0</td>\n",
              "    </tr>\n",
              "    <tr>\n",
              "      <th>4</th>\n",
              "      <td>50000</td>\n",
              "      <td>0</td>\n",
              "      <td>-1</td>\n",
              "      <td>0</td>\n",
              "      <td>-1</td>\n",
              "      <td>0</td>\n",
              "      <td>0</td>\n",
              "      <td>0</td>\n",
              "      <td>8617</td>\n",
              "      <td>5670</td>\n",
              "      <td>35835</td>\n",
              "      <td>20940</td>\n",
              "      <td>19146</td>\n",
              "      <td>19131</td>\n",
              "      <td>2000</td>\n",
              "      <td>36681</td>\n",
              "      <td>10000</td>\n",
              "      <td>9000</td>\n",
              "      <td>689</td>\n",
              "      <td>679</td>\n",
              "      <td>0</td>\n",
              "      <td>0</td>\n",
              "      <td>0</td>\n",
              "      <td>0</td>\n",
              "      <td>1</td>\n",
              "      <td>1</td>\n",
              "      <td>0</td>\n",
              "      <td>0</td>\n",
              "      <td>0</td>\n",
              "      <td>0</td>\n",
              "      <td>0</td>\n",
              "      <td>1</td>\n",
              "      <td>0</td>\n",
              "    </tr>\n",
              "  </tbody>\n",
              "</table>\n",
              "</div>"
            ],
            "text/plain": [
              "   LIMIT_BAL  SEX  ...  age_group_50_59  age_group_60_&_above\n",
              "0      20000    1  ...                0                     0\n",
              "1     120000    1  ...                0                     0\n",
              "2      90000    1  ...                0                     0\n",
              "3      50000    1  ...                0                     0\n",
              "4      50000    0  ...                1                     0\n",
              "\n",
              "[5 rows x 33 columns]"
            ]
          },
          "metadata": {},
          "execution_count": 45
        }
      ]
    },
    {
      "cell_type": "code",
      "metadata": {
        "colab": {
          "base_uri": "https://localhost:8080/"
        },
        "id": "VbhCj2t76Z0Y",
        "outputId": "db0e4b24-9b1e-4e31-bb68-4d0c3aecad68"
      },
      "source": [
        "# fetching the number of rows and columns of the data\n",
        "df.shape"
      ],
      "execution_count": 46,
      "outputs": [
        {
          "output_type": "execute_result",
          "data": {
            "text/plain": [
              "(30000, 33)"
            ]
          },
          "metadata": {},
          "execution_count": 46
        }
      ]
    },
    {
      "cell_type": "code",
      "metadata": {
        "id": "RUFFHpb37xUj"
      },
      "source": [
        "def remove_lables (x):\n",
        "  if x <=0:\n",
        "    x = 0\n",
        "  elif x > 3:\n",
        "    x = 3\n",
        "  return x"
      ],
      "execution_count": 47,
      "outputs": []
    },
    {
      "cell_type": "code",
      "metadata": {
        "id": "EEnBrskQ8P2d"
      },
      "source": [
        "# df.PAY_1=df.PAY_1.apply(lambda x: remove_lables(x))\n",
        "# df.PAY_2=df.PAY_2.apply(lambda x: remove_lables(x))\n",
        "# df.PAY_3=df.PAY_3.apply(lambda x: remove_lables(x))\n",
        "# df.PAY_4=df.PAY_4.apply(lambda x: remove_lables(x))\n",
        "# df.PAY_5=df.PAY_5.apply(lambda x: remove_lables(x))\n",
        "# df.PAY_6=df.PAY_6.apply(lambda x: remove_lables(x))"
      ],
      "execution_count": 48,
      "outputs": []
    },
    {
      "cell_type": "markdown",
      "metadata": {
        "id": "kGeEhDxR80i8"
      },
      "source": [
        "description of pay_df\n",
        "* 0 means payed duly\n",
        "* 1 payment delay for one month\n",
        "* 2 payment delay for two month\n",
        "* 3 payment delay for three or more month"
      ]
    },
    {
      "cell_type": "code",
      "metadata": {
        "id": "rC1CMopjEoEK"
      },
      "source": [
        "# storingt the old and new names of colums  in dictionary for convertion \n",
        "PAY={'PAY_1':'PAY_SEPT','PAY_2':'PAY_AUG','PAY_3':'PAY_JUL','PAY_4':'PAY_JUN','PAY_5':'PAY_MAY','PAY_6':'PAY_APR'}\n",
        "BILL={'BILL_AMT1':'BILL_AMT_SEPT','BILL_AMT2':'BILL_AMT_AUG','BILL_AMT3':'BILL_AMT_JUL','BILL_AMT4':'BILL_AMT_JUN','BILL_AMT5':'BILL_AMT_MAY','BILL_AMT6':'BILL_AMT_APR'}\n",
        "PAY_AMT={'PAY_AMT1':'PAY_AMT_SEPT','PAY_AMT2':'PAY_AMT_AUG','PAY_AMT3':'PAY_AMT_JUL','PAY_AMT4':'PAY_AMT_JUN','PAY_AMT5':'PAY_AMT_MAY','PAY_AMT6':'PAY_AMT_APR'}"
      ],
      "execution_count": 49,
      "outputs": []
    },
    {
      "cell_type": "code",
      "metadata": {
        "id": "g9cO2M-N9L4r"
      },
      "source": [
        "# changing the names of the columns based on above dictionary\n",
        "df.rename(columns=PAY,inplace=True)\n",
        "df.rename(columns=BILL, inplace = True)\n",
        "df.rename(columns=PAY_AMT,inplace=True)"
      ],
      "execution_count": 50,
      "outputs": []
    },
    {
      "cell_type": "code",
      "metadata": {
        "colab": {
          "base_uri": "https://localhost:8080/"
        },
        "id": "R-PCAYwHE9g8",
        "outputId": "0befa75f-5163-4588-a195-3247687f3238"
      },
      "source": [
        "# checking for the datatypes of all the features\n",
        "df.info()"
      ],
      "execution_count": 51,
      "outputs": [
        {
          "output_type": "stream",
          "name": "stdout",
          "text": [
            "<class 'pandas.core.frame.DataFrame'>\n",
            "RangeIndex: 30000 entries, 0 to 29999\n",
            "Data columns (total 33 columns):\n",
            " #   Column                     Non-Null Count  Dtype\n",
            "---  ------                     --------------  -----\n",
            " 0   LIMIT_BAL                  30000 non-null  int64\n",
            " 1   SEX                        30000 non-null  int64\n",
            " 2   PAY_SEPT                   30000 non-null  int64\n",
            " 3   PAY_AUG                    30000 non-null  int64\n",
            " 4   PAY_JUL                    30000 non-null  int64\n",
            " 5   PAY_JUN                    30000 non-null  int64\n",
            " 6   PAY_MAY                    30000 non-null  int64\n",
            " 7   PAY_APR                    30000 non-null  int64\n",
            " 8   BILL_AMT_SEPT              30000 non-null  int64\n",
            " 9   BILL_AMT_AUG               30000 non-null  int64\n",
            " 10  BILL_AMT_JUL               30000 non-null  int64\n",
            " 11  BILL_AMT_JUN               30000 non-null  int64\n",
            " 12  BILL_AMT_MAY               30000 non-null  int64\n",
            " 13  BILL_AMT_APR               30000 non-null  int64\n",
            " 14  PAY_AMT_SEPT               30000 non-null  int64\n",
            " 15  PAY_AMT_AUG                30000 non-null  int64\n",
            " 16  PAY_AMT_JUL                30000 non-null  int64\n",
            " 17  PAY_AMT_JUN                30000 non-null  int64\n",
            " 18  PAY_AMT_MAY                30000 non-null  int64\n",
            " 19  PAY_AMT_APR                30000 non-null  int64\n",
            " 20  Is_Defaulter               30000 non-null  int64\n",
            " 21  EDUCATION_graduate school  30000 non-null  uint8\n",
            " 22  EDUCATION_high school      30000 non-null  uint8\n",
            " 23  EDUCATION_others           30000 non-null  uint8\n",
            " 24  EDUCATION_university       30000 non-null  uint8\n",
            " 25  MARRIAGE_Married           30000 non-null  uint8\n",
            " 26  MARRIAGE_Others            30000 non-null  uint8\n",
            " 27  MARRIAGE_Single            30000 non-null  uint8\n",
            " 28  age_group_21_29            30000 non-null  uint8\n",
            " 29  age_group_30_39            30000 non-null  uint8\n",
            " 30  age_group_40_49            30000 non-null  uint8\n",
            " 31  age_group_50_59            30000 non-null  uint8\n",
            " 32  age_group_60_&_above       30000 non-null  uint8\n",
            "dtypes: int64(21), uint8(12)\n",
            "memory usage: 5.1 MB\n"
          ]
        }
      ]
    },
    {
      "cell_type": "code",
      "metadata": {
        "id": "Yv3axEF3PNcR"
      },
      "source": [
        "# convert to dummy varibles\n",
        "df = pd.get_dummies(df,columns=['PAY_SEPT','PAY_AUG','PAY_JUL','PAY_JUN','PAY_MAY','PAY_APR'])"
      ],
      "execution_count": 52,
      "outputs": []
    },
    {
      "cell_type": "code",
      "metadata": {
        "colab": {
          "base_uri": "https://localhost:8080/"
        },
        "id": "Vi2YsAJKT3SD",
        "outputId": "f90e4413-d4b4-4ef8-ec0f-1d8f512697cd"
      },
      "source": [
        "df.shape"
      ],
      "execution_count": 53,
      "outputs": [
        {
          "output_type": "execute_result",
          "data": {
            "text/plain": [
              "(30000, 91)"
            ]
          },
          "metadata": {},
          "execution_count": 53
        }
      ]
    },
    {
      "cell_type": "code",
      "metadata": {
        "id": "aDc05OIkFFEN"
      },
      "source": [
        "X = df.drop(['Is_Defaulter'],axis=1)\n",
        "y = df['Is_Defaulter']"
      ],
      "execution_count": 54,
      "outputs": []
    },
    {
      "cell_type": "code",
      "metadata": {
        "colab": {
          "base_uri": "https://localhost:8080/"
        },
        "id": "Yc4ahh7rUFBM",
        "outputId": "5145e2cb-a703-40a4-c197-bf0d6b40a0d8"
      },
      "source": [
        "X.shape"
      ],
      "execution_count": 55,
      "outputs": [
        {
          "output_type": "execute_result",
          "data": {
            "text/plain": [
              "(30000, 90)"
            ]
          },
          "metadata": {},
          "execution_count": 55
        }
      ]
    },
    {
      "cell_type": "code",
      "metadata": {
        "colab": {
          "base_uri": "https://localhost:8080/"
        },
        "id": "clCYKlVZULYh",
        "outputId": "517ef5db-c71a-4253-9e83-028d2deb8e70"
      },
      "source": [
        "y.shape"
      ],
      "execution_count": 56,
      "outputs": [
        {
          "output_type": "execute_result",
          "data": {
            "text/plain": [
              "(30000,)"
            ]
          },
          "metadata": {},
          "execution_count": 56
        }
      ]
    },
    {
      "cell_type": "code",
      "metadata": {
        "colab": {
          "base_uri": "https://localhost:8080/"
        },
        "id": "nBGSnuJLHyp-",
        "outputId": "c4b9bca6-47e5-490f-e0ea-614852ca8b2f"
      },
      "source": [
        "df['Is_Defaulter'].value_counts()"
      ],
      "execution_count": 57,
      "outputs": [
        {
          "output_type": "execute_result",
          "data": {
            "text/plain": [
              "0    23364\n",
              "1     6636\n",
              "Name: Is_Defaulter, dtype: int64"
            ]
          },
          "metadata": {},
          "execution_count": 57
        }
      ]
    },
    {
      "cell_type": "code",
      "metadata": {
        "id": "gi_8GdcDGsid"
      },
      "source": [
        "from imblearn.over_sampling import SMOTE\n",
        "smote = SMOTE()\n",
        "\n",
        "# fit predictor and target variable\n",
        "X_smote, y_smote = smote.fit_resample(X, y)"
      ],
      "execution_count": 58,
      "outputs": []
    },
    {
      "cell_type": "code",
      "metadata": {
        "colab": {
          "base_uri": "https://localhost:8080/"
        },
        "id": "3aX2r0ENIZAH",
        "outputId": "d9617713-47d7-452d-d2cf-4822ae783613"
      },
      "source": [
        "(unique, counts) = np.unique(y_smote, return_counts=True)\n",
        "np.asarray((unique, counts)).T"
      ],
      "execution_count": 59,
      "outputs": [
        {
          "output_type": "execute_result",
          "data": {
            "text/plain": [
              "array([[    0, 23364],\n",
              "       [    1, 23364]])"
            ]
          },
          "metadata": {},
          "execution_count": 59
        }
      ]
    },
    {
      "cell_type": "code",
      "metadata": {
        "id": "EeP91qraF-ov"
      },
      "source": [
        "X_train,X_test,y_train,y_test = train_test_split(X_smote,y_smote,test_size=0.25,random_state=0)"
      ],
      "execution_count": 60,
      "outputs": []
    },
    {
      "cell_type": "markdown",
      "metadata": {
        "id": "_M9RjLIH43F2"
      },
      "source": [
        "---\n",
        "# Logestic Regrestion\n",
        "---"
      ]
    },
    {
      "cell_type": "code",
      "metadata": {
        "id": "PLJMghsCNnb2"
      },
      "source": [
        "from sklearn.preprocessing import StandardScaler"
      ],
      "execution_count": 61,
      "outputs": []
    },
    {
      "cell_type": "code",
      "metadata": {
        "id": "5HFoHIPXNijI"
      },
      "source": [
        "# converting the data to normal disrtibution\n",
        "scaler = StandardScaler()\n",
        "X_train_lr = scaler.fit_transform(X_train)\n",
        "X_test_lr=scaler.transform(X_test)"
      ],
      "execution_count": 62,
      "outputs": []
    },
    {
      "cell_type": "code",
      "metadata": {
        "id": "J7FAX00x460X"
      },
      "source": [
        "from sklearn.linear_model import LogisticRegression\n",
        "log_reg = LogisticRegression()"
      ],
      "execution_count": 63,
      "outputs": []
    },
    {
      "cell_type": "code",
      "metadata": {
        "id": "wVLeVSJB9i27"
      },
      "source": [
        "param_dict = {'C': [0.001,0.01,0.1,1,10,100],'penalty': ['l1', 'l2'],'max_iter':[1000]} "
      ],
      "execution_count": 64,
      "outputs": []
    },
    {
      "cell_type": "code",
      "metadata": {
        "id": "56VoP6VD9v0R"
      },
      "source": [
        "log_reg_grid = GridSearchCV(log_reg, param_dict,n_jobs=-1, cv=5, verbose = 5,scoring='accuracy') "
      ],
      "execution_count": 65,
      "outputs": []
    },
    {
      "cell_type": "code",
      "metadata": {
        "colab": {
          "base_uri": "https://localhost:8080/"
        },
        "id": "UT5xtAEnQyZi",
        "outputId": "75cf35e3-2958-4720-93c9-23140d446430"
      },
      "source": [
        "train_and_score(log_reg_grid, X_test_lr, X_train_lr, y_test, y_train)"
      ],
      "execution_count": 66,
      "outputs": [
        {
          "output_type": "stream",
          "name": "stdout",
          "text": [
            "Fitting 5 folds for each of 12 candidates, totalling 60 fits\n"
          ]
        },
        {
          "output_type": "stream",
          "name": "stderr",
          "text": [
            "[Parallel(n_jobs=-1)]: Using backend LokyBackend with 2 concurrent workers.\n",
            "[Parallel(n_jobs=-1)]: Done  14 tasks      | elapsed:    2.0s\n",
            "[Parallel(n_jobs=-1)]: Done  60 out of  60 | elapsed:   59.6s finished\n"
          ]
        },
        {
          "output_type": "stream",
          "name": "stdout",
          "text": [
            "Training time: 1.1245min \n",
            "\n",
            "The best parameters found out to be : {'C': 10, 'max_iter': 1000, 'penalty': 'l2'} \n",
            "\n",
            " \n",
            "where negative mean squared error is:  0.880300180591125 \n",
            "\n",
            "score matrix for train\n",
            "********************************************************************************\n",
            "The accuracy is  0.88164127147178\n",
            "The precision is  0.8080027477245406\n",
            "The recall is  0.9467435777047422\n",
            "The f1 is  0.8718883192291061\n",
            "the auc  is  0.8900922536683814\n",
            "\n",
            "\n",
            "score matrix for test\n",
            "********************************************************************************\n",
            "The accuracy is  0.8776750556411573\n",
            "The precision is  0.8086513994910941\n",
            "The recall is  0.9406077348066298\n",
            "The f1 is  0.8696524673903129\n",
            "the auc  is  0.8850302054740738\n"
          ]
        }
      ]
    },
    {
      "cell_type": "markdown",
      "metadata": {
        "id": "qy_06v6825JP"
      },
      "source": [
        "---\n",
        "# Desision Tree\n",
        "---"
      ]
    },
    {
      "cell_type": "code",
      "metadata": {
        "colab": {
          "base_uri": "https://localhost:8080/"
        },
        "id": "w6uvte_dr353",
        "outputId": "a27d80e7-671c-41c4-9863-5df47187e1ac"
      },
      "source": [
        "from sklearn.tree import DecisionTreeClassifier\n",
        "# creating DecisionTree model\n",
        "DecisionTree = DecisionTreeClassifier(max_depth=10,max_leaf_nodes=45,criterion='entropy')\n",
        "\n",
        "# training and evaluating the DecisionTree\n",
        "train_and_score(DecisionTree,X_train, X_test, y_train, y_test)"
      ],
      "execution_count": 67,
      "outputs": [
        {
          "output_type": "stream",
          "name": "stdout",
          "text": [
            "Training time: 0.004min \n",
            "\n",
            "score matrix for train\n",
            "********************************************************************************\n",
            "The accuracy is  0.8313644923814415\n",
            "The precision is  0.7506361323155216\n",
            "The recall is  0.8984771573604061\n",
            "The f1 is  0.8179297597042514\n",
            "the auc  is  0.8404624946192293\n",
            "\n",
            "\n",
            "score matrix for test\n",
            "********************************************************************************\n",
            "The accuracy is  0.8234891285738744\n",
            "The precision is  0.7344438720018318\n",
            "The recall is  0.8923975794672045\n",
            "The f1 is  0.8057526847955787\n",
            "the auc  is  0.8339775889014381\n"
          ]
        }
      ]
    },
    {
      "cell_type": "markdown",
      "metadata": {
        "id": "0udFSoX_Kjzf"
      },
      "source": [
        "---\n",
        "# Random forest\n",
        "---"
      ]
    },
    {
      "cell_type": "code",
      "metadata": {
        "id": "1k3J2HGlgk9Y"
      },
      "source": [
        "from sklearn.ensemble import RandomForestClassifier"
      ],
      "execution_count": 68,
      "outputs": []
    },
    {
      "cell_type": "code",
      "metadata": {
        "id": "q7xNc33rXN7u"
      },
      "source": [
        "# max_depth = 15, n_estimators=100"
      ],
      "execution_count": 69,
      "outputs": []
    },
    {
      "cell_type": "code",
      "metadata": {
        "id": "z27xksk4hDth"
      },
      "source": [
        "# creating Random Forest Regressor model\n",
        "rfc=RandomForestClassifier(n_jobs=-1,verbose=0)"
      ],
      "execution_count": 70,
      "outputs": []
    },
    {
      "cell_type": "code",
      "metadata": {
        "colab": {
          "base_uri": "https://localhost:8080/"
        },
        "id": "S8DJQm7qsdmv",
        "outputId": "eb259014-2188-403c-c0d6-2b6fdb6fee9c"
      },
      "source": [
        "# training and evaluating the Random Forest Regressor\n",
        "train_and_score(rfc,X_train, X_test, y_train, y_test,best_parameter=True)"
      ],
      "execution_count": 71,
      "outputs": [
        {
          "output_type": "stream",
          "name": "stdout",
          "text": [
            "Training time: 0.0311min \n",
            "\n",
            "score matrix for train\n",
            "********************************************************************************\n",
            "The accuracy is  0.9994007875363807\n",
            "The precision is  0.9996607294317218\n",
            "The recall is  0.9991522550016955\n",
            "The f1 is  0.999406427541762\n",
            "the auc  is  0.999403236767791\n",
            "\n",
            "\n",
            "score matrix for test\n",
            "********************************************************************************\n",
            "The accuracy is  0.8648918564172802\n",
            "The precision is  0.8226572786078196\n",
            "The recall is  0.8977386306846576\n",
            "The f1 is  0.8585596080891358\n",
            "the auc  is  0.8675057267300796\n"
          ]
        }
      ]
    },
    {
      "cell_type": "markdown",
      "metadata": {
        "id": "WqyxIM0DNXjT"
      },
      "source": [
        "## implimenting grid search random forest\n",
        "---"
      ]
    },
    {
      "cell_type": "code",
      "metadata": {
        "id": "GOEx--DXUsNF"
      },
      "source": [
        "# creating RandomForestRegressor model\n",
        "rfc=RandomForestClassifier()"
      ],
      "execution_count": 72,
      "outputs": []
    },
    {
      "cell_type": "code",
      "metadata": {
        "id": "R9jBcHOBrZ71"
      },
      "source": [
        "# finding the best parameters for knn_model by gridsearchcv\n",
        "grid_values_rf = {'n_estimators': [150,200,250],'max_depth': [3,5,9],'criterion': ['entropy']}\n",
        "rfc_grid = GridSearchCV(estimator=rfc,param_grid = grid_values_rf, scoring='balanced_accuracy',cv=5,verbose=5,n_jobs=-1)"
      ],
      "execution_count": 73,
      "outputs": []
    },
    {
      "cell_type": "code",
      "metadata": {
        "colab": {
          "base_uri": "https://localhost:8080/"
        },
        "id": "z_0vd_dMzzlW",
        "outputId": "c3982bac-d0ac-4a37-8c88-81aedda10f23"
      },
      "source": [
        "# training and evaluating the Random Forest Regressor\n",
        "train_and_score(rfc_grid,X_train, X_test, y_train, y_test)"
      ],
      "execution_count": 74,
      "outputs": [
        {
          "output_type": "stream",
          "name": "stdout",
          "text": [
            "Fitting 5 folds for each of 9 candidates, totalling 45 fits\n"
          ]
        },
        {
          "output_type": "stream",
          "name": "stderr",
          "text": [
            "[Parallel(n_jobs=-1)]: Using backend LokyBackend with 2 concurrent workers.\n",
            "[Parallel(n_jobs=-1)]: Done  14 tasks      | elapsed:   19.4s\n",
            "[Parallel(n_jobs=-1)]: Done  45 out of  45 | elapsed:  1.5min finished\n"
          ]
        },
        {
          "output_type": "stream",
          "name": "stdout",
          "text": [
            "Training time: 1.6243min \n",
            "\n",
            "The best parameters found out to be : {'criterion': 'entropy', 'max_depth': 9, 'n_estimators': 200} \n",
            "\n",
            " \n",
            "where negative mean squared error is:  0.8475091853619505 \n",
            "\n",
            "score matrix for train\n",
            "********************************************************************************\n",
            "The accuracy is  0.8754494093477144\n",
            "The precision is  0.8495335029686175\n",
            "The recall is  0.8981348637015782\n",
            "The f1 is  0.8731583994420713\n",
            "the auc  is  0.8764339565805631\n",
            "\n",
            "\n",
            "score matrix for test\n",
            "********************************************************************************\n",
            "The accuracy is  0.8441476916053188\n",
            "The precision is  0.803995649436144\n",
            "The recall is  0.8732823478206803\n",
            "The f1 is  0.837207916070577\n",
            "the auc  is  0.8463601002405622\n"
          ]
        }
      ]
    },
    {
      "cell_type": "markdown",
      "metadata": {
        "id": "xgR8YnjLbcAD"
      },
      "source": [
        "---\n",
        "#XGboost\n",
        "---"
      ]
    },
    {
      "cell_type": "code",
      "metadata": {
        "id": "LOrYta-CcgwI"
      },
      "source": [
        "from xgboost import XGBClassifier"
      ],
      "execution_count": 76,
      "outputs": []
    },
    {
      "cell_type": "code",
      "metadata": {
        "id": "ZP2HDqMEcPWa"
      },
      "source": [
        "# creating XGBRegressor model\n",
        "xgbc=XGBClassifier()"
      ],
      "execution_count": 77,
      "outputs": []
    },
    {
      "cell_type": "code",
      "metadata": {
        "colab": {
          "base_uri": "https://localhost:8080/"
        },
        "id": "a_xukeSLjNId",
        "outputId": "1e0403da-4631-46ab-c5cf-ce4bc73e7b54"
      },
      "source": [
        "# training and evaluating the xgb_grid\n",
        "train_and_score(xgbc,X_train, X_test, y_train, y_test)"
      ],
      "execution_count": 78,
      "outputs": [
        {
          "output_type": "stream",
          "name": "stdout",
          "text": [
            "Training time: 0.0504min \n",
            "\n",
            "score matrix for train\n",
            "********************************************************************************\n",
            "The accuracy is  0.8756206129087485\n",
            "The precision is  0.8240882103477524\n",
            "The recall is  0.9211224876753887\n",
            "The f1 is  0.8699077804637836\n",
            "the auc  is  0.8796467619400664\n",
            "\n",
            "\n",
            "score matrix for test\n",
            "********************************************************************************\n",
            "The accuracy is  0.8730810934200764\n",
            "The precision is  0.8126395328868281\n",
            "The recall is  0.9235573482532041\n",
            "The f1 is  0.8645554202192449\n",
            "the auc  is  0.8786020540503633\n"
          ]
        }
      ]
    },
    {
      "cell_type": "code",
      "metadata": {
        "colab": {
          "base_uri": "https://localhost:8080/"
        },
        "id": "ChzauGx3yyc2",
        "outputId": "33fc69df-76a7-459e-9c81-1121d349903f"
      },
      "source": [
        "xgbc.get_params"
      ],
      "execution_count": 79,
      "outputs": [
        {
          "output_type": "execute_result",
          "data": {
            "text/plain": [
              "<bound method XGBModel.get_params of XGBClassifier(base_score=0.5, booster='gbtree', colsample_bylevel=1,\n",
              "              colsample_bynode=1, colsample_bytree=1, gamma=0,\n",
              "              learning_rate=0.1, max_delta_step=0, max_depth=3,\n",
              "              min_child_weight=1, missing=None, n_estimators=100, n_jobs=1,\n",
              "              nthread=None, objective='binary:logistic', random_state=0,\n",
              "              reg_alpha=0, reg_lambda=1, scale_pos_weight=1, seed=None,\n",
              "              silent=None, subsample=1, verbosity=1)>"
            ]
          },
          "metadata": {},
          "execution_count": 79
        }
      ]
    },
    {
      "cell_type": "markdown",
      "metadata": {
        "id": "_kijouVP3hHK"
      },
      "source": [
        "## implimenting grid search xgb\n",
        "---"
      ]
    },
    {
      "cell_type": "code",
      "metadata": {
        "id": "3GbdBF9Md56J"
      },
      "source": [
        "# finding the best parameters for XGBRegressor by gridsearchcv\n",
        "xgbc_param={'n_estimators': [50,100,150],'max_depth': [3,5,9]}\n",
        "xgbc_grid=GridSearchCV(estimator=xgbc,param_grid=xgbc_param,cv=3,scoring='balanced_accuracy',verbose=5,n_jobs=-1)"
      ],
      "execution_count": 80,
      "outputs": []
    },
    {
      "cell_type": "code",
      "metadata": {
        "colab": {
          "base_uri": "https://localhost:8080/"
        },
        "id": "h3IEw41rlr_o",
        "outputId": "937a1f48-d3fd-4060-9b44-57457aa759ef"
      },
      "source": [
        "# training and evaluating the xgb_grid\n",
        "train_and_score(xgbc_grid,X_train, X_test, y_train, y_test)"
      ],
      "execution_count": 81,
      "outputs": [
        {
          "output_type": "stream",
          "name": "stdout",
          "text": [
            "Fitting 3 folds for each of 9 candidates, totalling 27 fits\n"
          ]
        },
        {
          "output_type": "stream",
          "name": "stderr",
          "text": [
            "[Parallel(n_jobs=-1)]: Using backend LokyBackend with 2 concurrent workers.\n",
            "[Parallel(n_jobs=-1)]: Done  14 tasks      | elapsed:   23.4s\n",
            "[Parallel(n_jobs=-1)]: Done  27 out of  27 | elapsed:  1.3min finished\n"
          ]
        },
        {
          "output_type": "stream",
          "name": "stdout",
          "text": [
            "Training time: 1.3653min \n",
            "\n",
            "The best parameters found out to be : {'max_depth': 5, 'n_estimators': 50} \n",
            "\n",
            " \n",
            "where negative mean squared error is:  0.8743908761016069 \n",
            "\n",
            "score matrix for train\n",
            "********************************************************************************\n",
            "The accuracy is  0.8874336586200993\n",
            "The precision is  0.8330788804071246\n",
            "The recall is  0.9368561617703167\n",
            "The f1 is  0.8819251144832541\n",
            "the auc  is  0.8920305653572081\n",
            "\n",
            "\n",
            "score matrix for test\n",
            "********************************************************************************\n",
            "The accuracy is  0.8756206129087485\n",
            "The precision is  0.8136126853282959\n",
            "The recall is  0.927983807782711\n",
            "The f1 is  0.8670428549641604\n",
            "the auc  is  0.8814779657261249\n"
          ]
        }
      ]
    },
    {
      "cell_type": "markdown",
      "metadata": {
        "id": "FKBMHBWPCxEj"
      },
      "source": [
        "---\n",
        "# CatBoost\n",
        "---"
      ]
    },
    {
      "cell_type": "code",
      "metadata": {
        "colab": {
          "base_uri": "https://localhost:8080/"
        },
        "id": "LD2KzpZtBP5u",
        "outputId": "18d9a689-bc71-4115-c793-f2e57c06e7f3"
      },
      "source": [
        "!pip install catboost"
      ],
      "execution_count": 82,
      "outputs": [
        {
          "output_type": "stream",
          "name": "stdout",
          "text": [
            "Requirement already satisfied: catboost in /usr/local/lib/python3.7/dist-packages (1.0.0)\n",
            "Requirement already satisfied: scipy in /usr/local/lib/python3.7/dist-packages (from catboost) (1.4.1)\n",
            "Requirement already satisfied: matplotlib in /usr/local/lib/python3.7/dist-packages (from catboost) (3.2.2)\n",
            "Requirement already satisfied: six in /usr/local/lib/python3.7/dist-packages (from catboost) (1.15.0)\n",
            "Requirement already satisfied: numpy>=1.16.0 in /usr/local/lib/python3.7/dist-packages (from catboost) (1.19.5)\n",
            "Requirement already satisfied: graphviz in /usr/local/lib/python3.7/dist-packages (from catboost) (0.10.1)\n",
            "Requirement already satisfied: plotly in /usr/local/lib/python3.7/dist-packages (from catboost) (4.4.1)\n",
            "Requirement already satisfied: pandas>=0.24.0 in /usr/local/lib/python3.7/dist-packages (from catboost) (1.1.5)\n",
            "Requirement already satisfied: pytz>=2017.2 in /usr/local/lib/python3.7/dist-packages (from pandas>=0.24.0->catboost) (2018.9)\n",
            "Requirement already satisfied: python-dateutil>=2.7.3 in /usr/local/lib/python3.7/dist-packages (from pandas>=0.24.0->catboost) (2.8.2)\n",
            "Requirement already satisfied: kiwisolver>=1.0.1 in /usr/local/lib/python3.7/dist-packages (from matplotlib->catboost) (1.3.2)\n",
            "Requirement already satisfied: pyparsing!=2.0.4,!=2.1.2,!=2.1.6,>=2.0.1 in /usr/local/lib/python3.7/dist-packages (from matplotlib->catboost) (2.4.7)\n",
            "Requirement already satisfied: cycler>=0.10 in /usr/local/lib/python3.7/dist-packages (from matplotlib->catboost) (0.10.0)\n",
            "Requirement already satisfied: retrying>=1.3.3 in /usr/local/lib/python3.7/dist-packages (from plotly->catboost) (1.3.3)\n"
          ]
        }
      ]
    },
    {
      "cell_type": "code",
      "metadata": {
        "id": "jM3gEkvre3MN"
      },
      "source": [
        "from catboost import CatBoostClassifier"
      ],
      "execution_count": 83,
      "outputs": []
    },
    {
      "cell_type": "code",
      "metadata": {
        "id": "DQOjsxlGBvZH"
      },
      "source": [
        "cb_model=CatBoostClassifier(verbose=0)"
      ],
      "execution_count": 84,
      "outputs": []
    },
    {
      "cell_type": "code",
      "metadata": {
        "colab": {
          "base_uri": "https://localhost:8080/"
        },
        "id": "03Ef38C1B0pH",
        "outputId": "aff21fc3-8588-447a-c856-ba7e5bce3ce9"
      },
      "source": [
        "# training and evaluating the PolynomialFeatures\n",
        "train_and_score(cb_model,X_train, X_test, y_train, y_test)"
      ],
      "execution_count": 85,
      "outputs": [
        {
          "output_type": "stream",
          "name": "stdout",
          "text": [
            "Training time: 0.1482min \n",
            "\n",
            " \n",
            "where negative mean squared error is:  {'learn': {'Logloss': 0.20824844611464574}} \n",
            "\n",
            "score matrix for train\n",
            "********************************************************************************\n",
            "The accuracy is  0.921160760143811\n",
            "The precision is  0.8793893129770992\n",
            "The recall is  0.9610678531701891\n",
            "The f1 is  0.9184161573212862\n",
            "the auc  is  0.9239976670431098\n",
            "\n",
            "\n",
            "score matrix for test\n",
            "********************************************************************************\n",
            "The accuracy is  0.8750214004451292\n",
            "The precision is  0.8191081344095255\n",
            "The recall is  0.9214373108377873\n",
            "The f1 is  0.8672646827080429\n",
            "the auc  is  0.8797635906036043\n"
          ]
        }
      ]
    },
    {
      "cell_type": "code",
      "metadata": {
        "id": "czik2FScCKDd"
      },
      "source": [
        "cb_model=CatBoostClassifier()"
      ],
      "execution_count": 86,
      "outputs": []
    },
    {
      "cell_type": "code",
      "metadata": {
        "id": "DcfwGrNigzQ0"
      },
      "source": [
        "# finding the best parameters for XGBRegressor by gridsearchcv\n",
        "cat_para={'n_estimators': [50,100,150],'max_depth': [3,5,9]}\n",
        "cat_grid=GridSearchCV(estimator=cb_model,param_grid=cat_para,cv=3,scoring='balanced_accuracy',verbose=0,n_jobs=-1)"
      ],
      "execution_count": 87,
      "outputs": []
    },
    {
      "cell_type": "code",
      "metadata": {
        "colab": {
          "base_uri": "https://localhost:8080/"
        },
        "id": "KJUVAQwVEsMX",
        "outputId": "cf517f8f-5bba-4199-a219-812b540e4106"
      },
      "source": [
        "# training and evaluating the PolynomialFeatures\n",
        "train_and_score(cat_grid,X_train, X_test, y_train, y_test)"
      ],
      "execution_count": 88,
      "outputs": [
        {
          "output_type": "stream",
          "name": "stdout",
          "text": [
            "Learning rate set to 0.167605\n",
            "0:\tlearn: 0.6088766\ttotal: 5.93ms\tremaining: 884ms\n",
            "1:\tlearn: 0.5638715\ttotal: 12.1ms\tremaining: 894ms\n",
            "2:\tlearn: 0.5279881\ttotal: 17.8ms\tremaining: 871ms\n",
            "3:\tlearn: 0.4964483\ttotal: 24ms\tremaining: 876ms\n",
            "4:\tlearn: 0.4604904\ttotal: 30.3ms\tremaining: 879ms\n",
            "5:\tlearn: 0.4467735\ttotal: 35.9ms\tremaining: 861ms\n",
            "6:\tlearn: 0.4161272\ttotal: 41.6ms\tremaining: 849ms\n",
            "7:\tlearn: 0.3869781\ttotal: 47.8ms\tremaining: 849ms\n",
            "8:\tlearn: 0.3823537\ttotal: 53.9ms\tremaining: 845ms\n",
            "9:\tlearn: 0.3749463\ttotal: 60.4ms\tremaining: 846ms\n",
            "10:\tlearn: 0.3719055\ttotal: 66.5ms\tremaining: 840ms\n",
            "11:\tlearn: 0.3686119\ttotal: 72.6ms\tremaining: 835ms\n",
            "12:\tlearn: 0.3640356\ttotal: 78.6ms\tremaining: 828ms\n",
            "13:\tlearn: 0.3428270\ttotal: 84.6ms\tremaining: 821ms\n",
            "14:\tlearn: 0.3405873\ttotal: 90.5ms\tremaining: 815ms\n",
            "15:\tlearn: 0.3378605\ttotal: 96.5ms\tremaining: 808ms\n",
            "16:\tlearn: 0.3359634\ttotal: 103ms\tremaining: 802ms\n",
            "17:\tlearn: 0.3296607\ttotal: 109ms\tremaining: 797ms\n",
            "18:\tlearn: 0.3277533\ttotal: 115ms\tremaining: 795ms\n",
            "19:\tlearn: 0.3266088\ttotal: 121ms\tremaining: 789ms\n",
            "20:\tlearn: 0.3254818\ttotal: 127ms\tremaining: 782ms\n",
            "21:\tlearn: 0.3245265\ttotal: 133ms\tremaining: 775ms\n",
            "22:\tlearn: 0.3230385\ttotal: 140ms\tremaining: 771ms\n",
            "23:\tlearn: 0.3219014\ttotal: 146ms\tremaining: 767ms\n",
            "24:\tlearn: 0.3208786\ttotal: 152ms\tremaining: 761ms\n",
            "25:\tlearn: 0.3201818\ttotal: 158ms\tremaining: 756ms\n",
            "26:\tlearn: 0.3183406\ttotal: 165ms\tremaining: 750ms\n",
            "27:\tlearn: 0.3176839\ttotal: 171ms\tremaining: 743ms\n",
            "28:\tlearn: 0.3168413\ttotal: 177ms\tremaining: 739ms\n",
            "29:\tlearn: 0.3160850\ttotal: 184ms\tremaining: 735ms\n",
            "30:\tlearn: 0.3152028\ttotal: 195ms\tremaining: 747ms\n",
            "31:\tlearn: 0.3149187\ttotal: 200ms\tremaining: 738ms\n",
            "32:\tlearn: 0.3142696\ttotal: 206ms\tremaining: 732ms\n",
            "33:\tlearn: 0.3134654\ttotal: 212ms\tremaining: 725ms\n",
            "34:\tlearn: 0.3130040\ttotal: 218ms\tremaining: 718ms\n",
            "35:\tlearn: 0.3123020\ttotal: 224ms\tremaining: 711ms\n",
            "36:\tlearn: 0.3114512\ttotal: 230ms\tremaining: 704ms\n",
            "37:\tlearn: 0.3107738\ttotal: 236ms\tremaining: 697ms\n",
            "38:\tlearn: 0.3101689\ttotal: 242ms\tremaining: 690ms\n",
            "39:\tlearn: 0.3095753\ttotal: 249ms\tremaining: 683ms\n",
            "40:\tlearn: 0.3090781\ttotal: 254ms\tremaining: 676ms\n",
            "41:\tlearn: 0.3083396\ttotal: 260ms\tremaining: 669ms\n",
            "42:\tlearn: 0.3076312\ttotal: 266ms\tremaining: 662ms\n",
            "43:\tlearn: 0.3068801\ttotal: 272ms\tremaining: 655ms\n",
            "44:\tlearn: 0.3059618\ttotal: 278ms\tremaining: 649ms\n",
            "45:\tlearn: 0.3053635\ttotal: 284ms\tremaining: 642ms\n",
            "46:\tlearn: 0.3046747\ttotal: 290ms\tremaining: 635ms\n",
            "47:\tlearn: 0.3041514\ttotal: 296ms\tremaining: 628ms\n",
            "48:\tlearn: 0.3037500\ttotal: 302ms\tremaining: 622ms\n",
            "49:\tlearn: 0.3031009\ttotal: 312ms\tremaining: 624ms\n",
            "50:\tlearn: 0.3016397\ttotal: 322ms\tremaining: 625ms\n",
            "51:\tlearn: 0.3011567\ttotal: 329ms\tremaining: 621ms\n",
            "52:\tlearn: 0.3002901\ttotal: 335ms\tremaining: 614ms\n",
            "53:\tlearn: 0.2999448\ttotal: 342ms\tremaining: 609ms\n",
            "54:\tlearn: 0.2991090\ttotal: 349ms\tremaining: 603ms\n",
            "55:\tlearn: 0.2984675\ttotal: 355ms\tremaining: 596ms\n",
            "56:\tlearn: 0.2980397\ttotal: 361ms\tremaining: 589ms\n",
            "57:\tlearn: 0.2973563\ttotal: 367ms\tremaining: 582ms\n",
            "58:\tlearn: 0.2963212\ttotal: 375ms\tremaining: 578ms\n",
            "59:\tlearn: 0.2956129\ttotal: 383ms\tremaining: 574ms\n",
            "60:\tlearn: 0.2948716\ttotal: 389ms\tremaining: 567ms\n",
            "61:\tlearn: 0.2940235\ttotal: 395ms\tremaining: 561ms\n",
            "62:\tlearn: 0.2916573\ttotal: 401ms\tremaining: 554ms\n",
            "63:\tlearn: 0.2910880\ttotal: 407ms\tremaining: 548ms\n",
            "64:\tlearn: 0.2904639\ttotal: 413ms\tremaining: 540ms\n",
            "65:\tlearn: 0.2898062\ttotal: 419ms\tremaining: 534ms\n",
            "66:\tlearn: 0.2892728\ttotal: 425ms\tremaining: 527ms\n",
            "67:\tlearn: 0.2884519\ttotal: 431ms\tremaining: 520ms\n",
            "68:\tlearn: 0.2879666\ttotal: 437ms\tremaining: 513ms\n",
            "69:\tlearn: 0.2874621\ttotal: 443ms\tremaining: 506ms\n",
            "70:\tlearn: 0.2868050\ttotal: 449ms\tremaining: 499ms\n",
            "71:\tlearn: 0.2860324\ttotal: 455ms\tremaining: 493ms\n",
            "72:\tlearn: 0.2854497\ttotal: 460ms\tremaining: 486ms\n",
            "73:\tlearn: 0.2851540\ttotal: 466ms\tremaining: 479ms\n",
            "74:\tlearn: 0.2844495\ttotal: 473ms\tremaining: 473ms\n",
            "75:\tlearn: 0.2839962\ttotal: 479ms\tremaining: 466ms\n",
            "76:\tlearn: 0.2836227\ttotal: 485ms\tremaining: 460ms\n",
            "77:\tlearn: 0.2829346\ttotal: 491ms\tremaining: 454ms\n",
            "78:\tlearn: 0.2821754\ttotal: 498ms\tremaining: 447ms\n",
            "79:\tlearn: 0.2814607\ttotal: 504ms\tremaining: 441ms\n",
            "80:\tlearn: 0.2808910\ttotal: 510ms\tremaining: 434ms\n",
            "81:\tlearn: 0.2804655\ttotal: 518ms\tremaining: 430ms\n",
            "82:\tlearn: 0.2797622\ttotal: 525ms\tremaining: 423ms\n",
            "83:\tlearn: 0.2792645\ttotal: 530ms\tremaining: 417ms\n",
            "84:\tlearn: 0.2785119\ttotal: 536ms\tremaining: 410ms\n",
            "85:\tlearn: 0.2780719\ttotal: 543ms\tremaining: 404ms\n",
            "86:\tlearn: 0.2773640\ttotal: 549ms\tremaining: 398ms\n",
            "87:\tlearn: 0.2767977\ttotal: 558ms\tremaining: 393ms\n",
            "88:\tlearn: 0.2762135\ttotal: 569ms\tremaining: 390ms\n",
            "89:\tlearn: 0.2761335\ttotal: 575ms\tremaining: 383ms\n",
            "90:\tlearn: 0.2755585\ttotal: 581ms\tremaining: 377ms\n",
            "91:\tlearn: 0.2749198\ttotal: 588ms\tremaining: 371ms\n",
            "92:\tlearn: 0.2741640\ttotal: 594ms\tremaining: 364ms\n",
            "93:\tlearn: 0.2736249\ttotal: 600ms\tremaining: 358ms\n",
            "94:\tlearn: 0.2730708\ttotal: 608ms\tremaining: 352ms\n",
            "95:\tlearn: 0.2725172\ttotal: 615ms\tremaining: 346ms\n",
            "96:\tlearn: 0.2720543\ttotal: 621ms\tremaining: 339ms\n",
            "97:\tlearn: 0.2716516\ttotal: 626ms\tremaining: 332ms\n",
            "98:\tlearn: 0.2712595\ttotal: 633ms\tremaining: 326ms\n",
            "99:\tlearn: 0.2708469\ttotal: 640ms\tremaining: 320ms\n",
            "100:\tlearn: 0.2706080\ttotal: 646ms\tremaining: 313ms\n",
            "101:\tlearn: 0.2692966\ttotal: 652ms\tremaining: 307ms\n",
            "102:\tlearn: 0.2685632\ttotal: 658ms\tremaining: 300ms\n",
            "103:\tlearn: 0.2680545\ttotal: 667ms\tremaining: 295ms\n",
            "104:\tlearn: 0.2676791\ttotal: 674ms\tremaining: 289ms\n",
            "105:\tlearn: 0.2671271\ttotal: 680ms\tremaining: 282ms\n",
            "106:\tlearn: 0.2667145\ttotal: 685ms\tremaining: 275ms\n",
            "107:\tlearn: 0.2654802\ttotal: 691ms\tremaining: 269ms\n",
            "108:\tlearn: 0.2650856\ttotal: 697ms\tremaining: 262ms\n",
            "109:\tlearn: 0.2647242\ttotal: 703ms\tremaining: 256ms\n",
            "110:\tlearn: 0.2643709\ttotal: 709ms\tremaining: 249ms\n",
            "111:\tlearn: 0.2635669\ttotal: 716ms\tremaining: 243ms\n",
            "112:\tlearn: 0.2635156\ttotal: 722ms\tremaining: 236ms\n",
            "113:\tlearn: 0.2632163\ttotal: 728ms\tremaining: 230ms\n",
            "114:\tlearn: 0.2624970\ttotal: 734ms\tremaining: 223ms\n",
            "115:\tlearn: 0.2619127\ttotal: 740ms\tremaining: 217ms\n",
            "116:\tlearn: 0.2615327\ttotal: 746ms\tremaining: 210ms\n",
            "117:\tlearn: 0.2610178\ttotal: 752ms\tremaining: 204ms\n",
            "118:\tlearn: 0.2609880\ttotal: 758ms\tremaining: 197ms\n",
            "119:\tlearn: 0.2603647\ttotal: 769ms\tremaining: 192ms\n",
            "120:\tlearn: 0.2599228\ttotal: 776ms\tremaining: 186ms\n",
            "121:\tlearn: 0.2596722\ttotal: 782ms\tremaining: 179ms\n",
            "122:\tlearn: 0.2593258\ttotal: 788ms\tremaining: 173ms\n",
            "123:\tlearn: 0.2588945\ttotal: 794ms\tremaining: 166ms\n",
            "124:\tlearn: 0.2583061\ttotal: 800ms\tremaining: 160ms\n",
            "125:\tlearn: 0.2578224\ttotal: 806ms\tremaining: 154ms\n",
            "126:\tlearn: 0.2573377\ttotal: 813ms\tremaining: 147ms\n",
            "127:\tlearn: 0.2568913\ttotal: 819ms\tremaining: 141ms\n",
            "128:\tlearn: 0.2563440\ttotal: 825ms\tremaining: 134ms\n",
            "129:\tlearn: 0.2559035\ttotal: 831ms\tremaining: 128ms\n",
            "130:\tlearn: 0.2553755\ttotal: 837ms\tremaining: 121ms\n",
            "131:\tlearn: 0.2547407\ttotal: 844ms\tremaining: 115ms\n",
            "132:\tlearn: 0.2543312\ttotal: 850ms\tremaining: 109ms\n",
            "133:\tlearn: 0.2537899\ttotal: 856ms\tremaining: 102ms\n",
            "134:\tlearn: 0.2533809\ttotal: 862ms\tremaining: 95.8ms\n",
            "135:\tlearn: 0.2530932\ttotal: 868ms\tremaining: 89.4ms\n",
            "136:\tlearn: 0.2524973\ttotal: 874ms\tremaining: 83ms\n",
            "137:\tlearn: 0.2520582\ttotal: 880ms\tremaining: 76.6ms\n",
            "138:\tlearn: 0.2518335\ttotal: 886ms\tremaining: 70.1ms\n",
            "139:\tlearn: 0.2512409\ttotal: 893ms\tremaining: 63.8ms\n",
            "140:\tlearn: 0.2508826\ttotal: 899ms\tremaining: 57.4ms\n",
            "141:\tlearn: 0.2504691\ttotal: 905ms\tremaining: 51ms\n",
            "142:\tlearn: 0.2500605\ttotal: 911ms\tremaining: 44.6ms\n",
            "143:\tlearn: 0.2495540\ttotal: 918ms\tremaining: 38.2ms\n",
            "144:\tlearn: 0.2491767\ttotal: 924ms\tremaining: 31.9ms\n",
            "145:\tlearn: 0.2484958\ttotal: 930ms\tremaining: 25.5ms\n",
            "146:\tlearn: 0.2483065\ttotal: 936ms\tremaining: 19.1ms\n",
            "147:\tlearn: 0.2478469\ttotal: 942ms\tremaining: 12.7ms\n",
            "148:\tlearn: 0.2471859\ttotal: 948ms\tremaining: 6.36ms\n",
            "149:\tlearn: 0.2467526\ttotal: 954ms\tremaining: 0us\n",
            "Training time: 0.8124min \n",
            "\n",
            "The best parameters found out to be : {'max_depth': 5, 'n_estimators': 150} \n",
            "\n",
            " \n",
            "where negative mean squared error is:  0.8729537249191067 \n",
            "\n",
            "score matrix for train\n",
            "********************************************************************************\n",
            "The accuracy is  0.9029275808936826\n",
            "The precision is  0.8536047497879559\n",
            "The recall is  0.9488968508391477\n",
            "The f1 is  0.8987319164136452\n",
            "the auc  is  0.90680459409805\n",
            "\n",
            "\n",
            "score matrix for test\n",
            "********************************************************************************\n",
            "The accuracy is  0.8747360611767392\n",
            "The precision is  0.8161314328238594\n",
            "The recall is  0.9236799481697441\n",
            "The f1 is  0.8665815706297106\n",
            "the auc  is  0.8799471588281284\n"
          ]
        }
      ]
    },
    {
      "cell_type": "code",
      "metadata": {
        "id": "iQmzrYf9v2ZW"
      },
      "source": [
        "# LimeTabularExplainer_table(cat_grid.best_estimator_,instance=2,num_features=5,dependent_var='Rented Bike Count')"
      ],
      "execution_count": 89,
      "outputs": []
    },
    {
      "cell_type": "markdown",
      "metadata": {
        "id": "ySPDwBh7dFon"
      },
      "source": [
        "---\n",
        "# lightGBM\n",
        "---"
      ]
    },
    {
      "cell_type": "code",
      "metadata": {
        "id": "FEUBZVS3eftM"
      },
      "source": [
        "import lightgbm as lgb"
      ],
      "execution_count": 90,
      "outputs": []
    },
    {
      "cell_type": "code",
      "metadata": {
        "id": "LZxcCDAmdH_C"
      },
      "source": [
        "lgbc=lgb.LGBMClassifier()"
      ],
      "execution_count": 91,
      "outputs": []
    },
    {
      "cell_type": "code",
      "metadata": {
        "colab": {
          "base_uri": "https://localhost:8080/"
        },
        "id": "zpGvu7VCILB2",
        "outputId": "f9b64722-a6c6-4a76-ede3-f60bb01ad7c3"
      },
      "source": [
        "# training and evaluating the lgbr_grid\n",
        "train_and_score(lgbc, X_test, X_train, y_test, y_train)"
      ],
      "execution_count": 92,
      "outputs": [
        {
          "output_type": "stream",
          "name": "stdout",
          "text": [
            "Training time: 0.02min \n",
            "\n",
            " \n",
            "where negative mean squared error is:  defaultdict(<class 'dict'>, {}) \n",
            "\n",
            "score matrix for train\n",
            "********************************************************************************\n",
            "The accuracy is  0.8911145351823317\n",
            "The precision is  0.8284389489953632\n",
            "The recall is  0.9464390818128311\n",
            "The f1 is  0.8835164835164835\n",
            "the auc  is  0.8973653267834086\n",
            "\n",
            "\n",
            "score matrix for test\n",
            "********************************************************************************\n",
            "The accuracy is  0.8774182502996062\n",
            "The precision is  0.8196776929601357\n",
            "The recall is  0.929052105364353\n",
            "The f1 is  0.8709444844989186\n",
            "the auc  is  0.8825171034459476\n"
          ]
        }
      ]
    },
    {
      "cell_type": "code",
      "metadata": {
        "id": "iaUplSrmd3ou"
      },
      "source": [
        "# finding the best parameters for XGBRegressor by gridsearchcv\n",
        "lgbc_para={'n_estimators': [50,100,150],'max_depth': [3,5,7]}\n",
        "lgbc_grid=GridSearchCV(estimator=lgbc,param_grid=lgbc_para,cv=5,scoring='neg_mean_squared_error',verbose=5,n_jobs=-1)"
      ],
      "execution_count": 93,
      "outputs": []
    },
    {
      "cell_type": "code",
      "metadata": {
        "colab": {
          "base_uri": "https://localhost:8080/"
        },
        "id": "H_Va2rO3ezpF",
        "outputId": "5b003305-e501-4ed5-9e81-e906efb09654"
      },
      "source": [
        "# training and evaluating the lgbr_grid\n",
        "train_and_score(lgbc_grid, X_test, X_train, y_test, y_train)"
      ],
      "execution_count": 94,
      "outputs": [
        {
          "output_type": "stream",
          "name": "stdout",
          "text": [
            "Fitting 5 folds for each of 9 candidates, totalling 45 fits\n"
          ]
        },
        {
          "output_type": "stream",
          "name": "stderr",
          "text": [
            "[Parallel(n_jobs=-1)]: Using backend LokyBackend with 2 concurrent workers.\n",
            "[Parallel(n_jobs=-1)]: Done  14 tasks      | elapsed:    6.5s\n",
            "[Parallel(n_jobs=-1)]: Done  45 out of  45 | elapsed:   28.3s finished\n"
          ]
        },
        {
          "output_type": "stream",
          "name": "stdout",
          "text": [
            "Training time: 0.4927min \n",
            "\n",
            "The best parameters found out to be : {'max_depth': 7, 'n_estimators': 100} \n",
            "\n",
            " \n",
            "where negative mean squared error is:  -0.12041314315871443 \n",
            "\n",
            "score matrix for train\n",
            "********************************************************************************\n",
            "The accuracy is  0.8905153227187126\n",
            "The precision is  0.8284389489953632\n",
            "The recall is  0.945141065830721\n",
            "The f1 is  0.8829504896128855\n",
            "the auc  is  0.8966355982847737\n",
            "\n",
            "\n",
            "score matrix for test\n",
            "********************************************************************************\n",
            "The accuracy is  0.8773326485190892\n",
            "The precision is  0.8206955046649703\n",
            "The recall is  0.9278864595320292\n",
            "The f1 is  0.8710054910432983\n",
            "the auc  is  0.8822332730560578\n"
          ]
        }
      ]
    },
    {
      "cell_type": "markdown",
      "metadata": {
        "id": "CNj1dOhwInnX"
      },
      "source": [
        "---\n",
        "# score matrix for all the models \n",
        "---"
      ]
    },
    {
      "cell_type": "code",
      "metadata": {
        "id": "rF_1zjFHQNFz"
      },
      "source": [
        "#creating dictionary to store all the metrices \n",
        "dict={'accuracy':model_accuracy,'precision':model_precision,'recall':model_recall,'f1':model_f1_score,'roc_auc':model_roc_auc_score}"
      ],
      "execution_count": 95,
      "outputs": []
    },
    {
      "cell_type": "code",
      "metadata": {
        "id": "3aIHU-EaQyJb"
      },
      "source": [
        "# list of all models\n",
        "model_name=['Logestic Regrestion','Desision Tree','Random forest','Random forest Grid','a','XGboost','XGboost Grid','CATBoost','CATBoost Grid','lightGBM','lightGBM Grid']"
      ],
      "execution_count": 98,
      "outputs": []
    },
    {
      "cell_type": "code",
      "metadata": {
        "id": "44bzUsf7VIY9"
      },
      "source": [
        "# converting dictionary to dataframe\n",
        "matrix_df=pd.DataFrame.from_dict(dict,orient=\"index\",columns=model_name)"
      ],
      "execution_count": 99,
      "outputs": []
    },
    {
      "cell_type": "code",
      "metadata": {
        "colab": {
          "base_uri": "https://localhost:8080/",
          "height": 359
        },
        "id": "IUlYBus3Og22",
        "outputId": "fb4ac9ae-bfa0-4707-a19f-02d71cbbfc50"
      },
      "source": [
        "# taking the transpose of the dataframe to make it more visual appealing\n",
        "matrix_df.transpose().reset_index().rename(columns={'index':'Models'})"
      ],
      "execution_count": 103,
      "outputs": [
        {
          "output_type": "execute_result",
          "data": {
            "text/html": [
              "<div>\n",
              "<style scoped>\n",
              "    .dataframe tbody tr th:only-of-type {\n",
              "        vertical-align: middle;\n",
              "    }\n",
              "\n",
              "    .dataframe tbody tr th {\n",
              "        vertical-align: top;\n",
              "    }\n",
              "\n",
              "    .dataframe thead th {\n",
              "        text-align: right;\n",
              "    }\n",
              "</style>\n",
              "<table border=\"1\" class=\"dataframe\">\n",
              "  <thead>\n",
              "    <tr style=\"text-align: right;\">\n",
              "      <th></th>\n",
              "      <th>Models</th>\n",
              "      <th>accuracy</th>\n",
              "      <th>precision</th>\n",
              "      <th>recall</th>\n",
              "      <th>f1</th>\n",
              "      <th>roc_auc</th>\n",
              "    </tr>\n",
              "  </thead>\n",
              "  <tbody>\n",
              "    <tr>\n",
              "      <th>0</th>\n",
              "      <td>Logestic Regrestion</td>\n",
              "      <td>0.877675</td>\n",
              "      <td>0.808651</td>\n",
              "      <td>0.940608</td>\n",
              "      <td>0.869652</td>\n",
              "      <td>0.885030</td>\n",
              "    </tr>\n",
              "    <tr>\n",
              "      <th>1</th>\n",
              "      <td>Desision Tree</td>\n",
              "      <td>0.823489</td>\n",
              "      <td>0.734444</td>\n",
              "      <td>0.892398</td>\n",
              "      <td>0.805753</td>\n",
              "      <td>0.833978</td>\n",
              "    </tr>\n",
              "    <tr>\n",
              "      <th>2</th>\n",
              "      <td>Random forest</td>\n",
              "      <td>0.864892</td>\n",
              "      <td>0.822657</td>\n",
              "      <td>0.897739</td>\n",
              "      <td>0.858560</td>\n",
              "      <td>0.867506</td>\n",
              "    </tr>\n",
              "    <tr>\n",
              "      <th>3</th>\n",
              "      <td>Random forest Grid</td>\n",
              "      <td>0.844148</td>\n",
              "      <td>0.803996</td>\n",
              "      <td>0.873282</td>\n",
              "      <td>0.837208</td>\n",
              "      <td>0.846360</td>\n",
              "    </tr>\n",
              "    <tr>\n",
              "      <th>4</th>\n",
              "      <td>XGboost</td>\n",
              "      <td>0.873081</td>\n",
              "      <td>0.812640</td>\n",
              "      <td>0.923557</td>\n",
              "      <td>0.864555</td>\n",
              "      <td>0.878602</td>\n",
              "    </tr>\n",
              "    <tr>\n",
              "      <th>5</th>\n",
              "      <td>XGboost Grid</td>\n",
              "      <td>0.875621</td>\n",
              "      <td>0.813613</td>\n",
              "      <td>0.927984</td>\n",
              "      <td>0.867043</td>\n",
              "      <td>0.881478</td>\n",
              "    </tr>\n",
              "    <tr>\n",
              "      <th>6</th>\n",
              "      <td>CATBoost</td>\n",
              "      <td>0.875021</td>\n",
              "      <td>0.819108</td>\n",
              "      <td>0.921437</td>\n",
              "      <td>0.867265</td>\n",
              "      <td>0.879764</td>\n",
              "    </tr>\n",
              "    <tr>\n",
              "      <th>7</th>\n",
              "      <td>CATBoost Grid</td>\n",
              "      <td>0.874736</td>\n",
              "      <td>0.816131</td>\n",
              "      <td>0.923680</td>\n",
              "      <td>0.866582</td>\n",
              "      <td>0.879947</td>\n",
              "    </tr>\n",
              "    <tr>\n",
              "      <th>8</th>\n",
              "      <td>lightGBM</td>\n",
              "      <td>0.877418</td>\n",
              "      <td>0.819678</td>\n",
              "      <td>0.929052</td>\n",
              "      <td>0.870944</td>\n",
              "      <td>0.882517</td>\n",
              "    </tr>\n",
              "    <tr>\n",
              "      <th>9</th>\n",
              "      <td>lightGBM Grid</td>\n",
              "      <td>0.877333</td>\n",
              "      <td>0.820696</td>\n",
              "      <td>0.927886</td>\n",
              "      <td>0.871005</td>\n",
              "      <td>0.882233</td>\n",
              "    </tr>\n",
              "  </tbody>\n",
              "</table>\n",
              "</div>"
            ],
            "text/plain": [
              "                Models  accuracy  precision    recall        f1   roc_auc\n",
              "0  Logestic Regrestion  0.877675   0.808651  0.940608  0.869652  0.885030\n",
              "1        Desision Tree  0.823489   0.734444  0.892398  0.805753  0.833978\n",
              "2        Random forest  0.864892   0.822657  0.897739  0.858560  0.867506\n",
              "3   Random forest Grid  0.844148   0.803996  0.873282  0.837208  0.846360\n",
              "4              XGboost  0.873081   0.812640  0.923557  0.864555  0.878602\n",
              "5         XGboost Grid  0.875621   0.813613  0.927984  0.867043  0.881478\n",
              "6             CATBoost  0.875021   0.819108  0.921437  0.867265  0.879764\n",
              "7        CATBoost Grid  0.874736   0.816131  0.923680  0.866582  0.879947\n",
              "8             lightGBM  0.877418   0.819678  0.929052  0.870944  0.882517\n",
              "9        lightGBM Grid  0.877333   0.820696  0.927886  0.871005  0.882233"
            ]
          },
          "metadata": {},
          "execution_count": 103
        }
      ]
    }
  ]
}